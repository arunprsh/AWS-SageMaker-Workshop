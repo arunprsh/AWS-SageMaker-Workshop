{
 "cells": [
  {
   "cell_type": "markdown",
   "metadata": {},
   "source": [
    "# Bring Your Own Model\n",
    "<b> Using EMR Dataset for Diabetes Prediction </b>"
   ]
  },
  {
   "cell_type": "markdown",
   "metadata": {},
   "source": [
    "### Load & Prepare Data"
   ]
  },
  {
   "cell_type": "code",
   "execution_count": null,
   "metadata": {
    "ExecuteTime": {
     "end_time": "2020-08-24T16:42:24.371647Z",
     "start_time": "2020-08-24T16:42:24.091274Z"
    }
   },
   "outputs": [],
   "source": [
    "import pandas as pd "
   ]
  },
  {
   "cell_type": "code",
   "execution_count": null,
   "metadata": {
    "ExecuteTime": {
     "end_time": "2020-08-24T16:42:30.016756Z",
     "start_time": "2020-08-24T16:42:24.914905Z"
    }
   },
   "outputs": [],
   "source": [
    "patients = pd.read_csv('./DATA/patients.csv')\n",
    "diagnosis = pd.read_csv('./DATA/diagnosis.csv')\n",
    "specialities = pd.read_csv('./DATA/specialities.csv')\n",
    "transcripts = pd.read_csv('./DATA/transcripts.csv')\n",
    "medications = pd.read_csv('./DATA/medications.csv')"
   ]
  },
  {
   "cell_type": "code",
   "execution_count": null,
   "metadata": {
    "ExecuteTime": {
     "end_time": "2020-08-24T16:42:32.194381Z",
     "start_time": "2020-08-24T16:42:32.176430Z"
    }
   },
   "outputs": [],
   "source": [
    "patients.head(2)"
   ]
  },
  {
   "cell_type": "code",
   "execution_count": null,
   "metadata": {
    "ExecuteTime": {
     "end_time": "2020-08-24T16:42:34.478128Z",
     "start_time": "2020-08-24T16:42:34.430099Z"
    }
   },
   "outputs": [],
   "source": [
    "diagnosis.head(2)"
   ]
  },
  {
   "cell_type": "code",
   "execution_count": null,
   "metadata": {
    "ExecuteTime": {
     "end_time": "2020-08-24T16:42:37.485416Z",
     "start_time": "2020-08-24T16:42:37.447114Z"
    }
   },
   "outputs": [],
   "source": [
    "medications.columns = map(lambda x: 'med_' + x, medications.columns)\n",
    "medications.head(2)"
   ]
  },
  {
   "cell_type": "code",
   "execution_count": null,
   "metadata": {
    "ExecuteTime": {
     "end_time": "2020-08-24T16:42:39.819221Z",
     "start_time": "2020-08-24T16:42:39.793904Z"
    }
   },
   "outputs": [],
   "source": [
    "transcripts.head(2)"
   ]
  },
  {
   "cell_type": "code",
   "execution_count": null,
   "metadata": {
    "ExecuteTime": {
     "end_time": "2020-08-24T16:42:41.938871Z",
     "start_time": "2020-08-24T16:42:41.913522Z"
    }
   },
   "outputs": [],
   "source": [
    "specialities.head(2)"
   ]
  },
  {
   "cell_type": "code",
   "execution_count": null,
   "metadata": {
    "ExecuteTime": {
     "end_time": "2020-08-24T16:42:44.054695Z",
     "start_time": "2020-08-24T16:42:44.036528Z"
    }
   },
   "outputs": [],
   "source": [
    "data = pd.concat([diagnosis, transcripts, patients], axis=1)\n",
    "# Handle missing values \n",
    "data.fillna(0, inplace=True)"
   ]
  },
  {
   "cell_type": "code",
   "execution_count": null,
   "metadata": {
    "ExecuteTime": {
     "end_time": "2020-08-24T16:42:46.566946Z",
     "start_time": "2020-08-24T16:42:46.541236Z"
    }
   },
   "outputs": [],
   "source": [
    "data.head(3)"
   ]
  },
  {
   "cell_type": "markdown",
   "metadata": {},
   "source": [
    "#### Feature Selection"
   ]
  },
  {
   "cell_type": "code",
   "execution_count": null,
   "metadata": {
    "ExecuteTime": {
     "end_time": "2020-08-24T16:42:49.064865Z",
     "start_time": "2020-08-24T16:42:49.061124Z"
    }
   },
   "outputs": [],
   "source": [
    "categorical = ['Gender','State']\n",
    "categorical += [col for col in data.columns if 'Icd' in col]"
   ]
  },
  {
   "cell_type": "code",
   "execution_count": null,
   "metadata": {
    "ExecuteTime": {
     "end_time": "2020-08-24T16:42:51.824112Z",
     "start_time": "2020-08-24T16:42:51.819030Z"
    }
   },
   "outputs": [],
   "source": [
    "categorical"
   ]
  },
  {
   "cell_type": "code",
   "execution_count": null,
   "metadata": {
    "ExecuteTime": {
     "end_time": "2020-08-24T16:42:54.368581Z",
     "start_time": "2020-08-24T16:42:54.359409Z"
    }
   },
   "outputs": [],
   "source": [
    "numerical = data[[col for col in data.columns if (col not in categorical)]].columns.tolist()"
   ]
  },
  {
   "cell_type": "code",
   "execution_count": null,
   "metadata": {
    "ExecuteTime": {
     "end_time": "2020-08-24T16:42:56.909238Z",
     "start_time": "2020-08-24T16:42:56.904704Z"
    }
   },
   "outputs": [],
   "source": [
    "numerical"
   ]
  },
  {
   "cell_type": "code",
   "execution_count": null,
   "metadata": {
    "ExecuteTime": {
     "end_time": "2020-08-24T16:42:59.430323Z",
     "start_time": "2020-08-24T16:42:59.426997Z"
    }
   },
   "outputs": [],
   "source": [
    "not_important = ['DiagnosisFreq', 'AcuteCount', 'Height_Max', 'Temperature_Max', 'Weight_Min', 'BMI_Min', \n",
    "                 'RespiratoryRate_Min', 'Temperature_Std', 'Height_Mean', 'Height_Change', 'RespiratoryRate_Change', \n",
    "                 'Temperature_Change']"
   ]
  },
  {
   "cell_type": "code",
   "execution_count": null,
   "metadata": {
    "ExecuteTime": {
     "end_time": "2020-08-24T16:43:02.152410Z",
     "start_time": "2020-08-24T16:43:02.149342Z"
    }
   },
   "outputs": [],
   "source": [
    "features = set(numerical) - set(not_important)\n",
    "features = list(features)"
   ]
  },
  {
   "cell_type": "code",
   "execution_count": null,
   "metadata": {
    "ExecuteTime": {
     "end_time": "2020-08-24T16:43:04.699034Z",
     "start_time": "2020-08-24T16:43:04.663609Z"
    }
   },
   "outputs": [],
   "source": [
    "df = data[features]\n",
    "df.drop('PatientGuid', axis=1, inplace=True)\n",
    "df.head()"
   ]
  },
  {
   "cell_type": "markdown",
   "metadata": {},
   "source": [
    "#### Split Data"
   ]
  },
  {
   "cell_type": "code",
   "execution_count": null,
   "metadata": {
    "ExecuteTime": {
     "end_time": "2020-08-24T16:43:09.104709Z",
     "start_time": "2020-08-24T16:43:07.919158Z"
    }
   },
   "outputs": [],
   "source": [
    "from sklearn.model_selection import train_test_split\n",
    "\n",
    "\n",
    "df = df.sample(frac=1)\n",
    "train, test = train_test_split(df, test_size=0.2)\n",
    "train.to_csv('./DATA/train.csv', index=False)\n",
    "test.to_csv('./DATA/test.csv', index=False)"
   ]
  },
  {
   "cell_type": "code",
   "execution_count": null,
   "metadata": {
    "ExecuteTime": {
     "end_time": "2020-08-24T16:43:13.015625Z",
     "start_time": "2020-08-24T16:43:13.009041Z"
    }
   },
   "outputs": [],
   "source": [
    "train.shape"
   ]
  },
  {
   "cell_type": "code",
   "execution_count": null,
   "metadata": {
    "ExecuteTime": {
     "end_time": "2020-08-24T16:43:17.253208Z",
     "start_time": "2020-08-24T16:43:17.248976Z"
    }
   },
   "outputs": [],
   "source": [
    "test.shape"
   ]
  },
  {
   "cell_type": "markdown",
   "metadata": {},
   "source": [
    "#### Push Data to S3 "
   ]
  },
  {
   "cell_type": "code",
   "execution_count": null,
   "metadata": {
    "ExecuteTime": {
     "end_time": "2020-08-24T16:43:21.086036Z",
     "start_time": "2020-08-24T16:43:21.083323Z"
    }
   },
   "outputs": [],
   "source": [
    "from datetime import datetime\n",
    "import boto3"
   ]
  },
  {
   "cell_type": "code",
   "execution_count": null,
   "metadata": {
    "ExecuteTime": {
     "end_time": "2020-08-24T16:43:24.765649Z",
     "start_time": "2020-08-24T16:43:24.763062Z"
    }
   },
   "outputs": [],
   "source": [
    "bucket = 'sagemaker-diabetes-prediction'"
   ]
  },
  {
   "cell_type": "code",
   "execution_count": null,
   "metadata": {
    "ExecuteTime": {
     "end_time": "2020-08-24T16:43:29.500131Z",
     "start_time": "2020-08-24T16:43:28.416082Z"
    }
   },
   "outputs": [],
   "source": [
    "s3_session = boto3.Session().resource('s3')"
   ]
  },
  {
   "cell_type": "code",
   "execution_count": null,
   "metadata": {
    "ExecuteTime": {
     "end_time": "2020-08-24T16:43:33.520396Z",
     "start_time": "2020-08-24T16:43:33.247232Z"
    }
   },
   "outputs": [],
   "source": [
    "s3_session.create_bucket(Bucket=bucket)\n",
    "s3_session.Bucket(bucket).Object('train/train.csv').upload_file('./DATA/train.csv')"
   ]
  },
  {
   "cell_type": "markdown",
   "metadata": {},
   "source": [
    "### Prepare your Model Script "
   ]
  },
  {
   "cell_type": "code",
   "execution_count": null,
   "metadata": {
    "ExecuteTime": {
     "end_time": "2020-08-24T16:43:37.307355Z",
     "start_time": "2020-08-24T16:43:37.299833Z"
    }
   },
   "outputs": [],
   "source": [
    "%%file diabetes-prediction.py\n",
    "\n",
    "import warnings; warnings.simplefilter('ignore')\n",
    "\n",
    "from sklearn.model_selection import RepeatedStratifiedKFold\n",
    "from sklearn.model_selection import train_test_split\n",
    "from sklearn.ensemble import RandomForestClassifier\n",
    "from sklearn.model_selection import cross_val_score\n",
    "from sklearn.preprocessing import MinMaxScaler\n",
    "from sklearn.metrics import accuracy_score\n",
    "from numpy import mean\n",
    "import pandas as pd\n",
    "import numpy as np\n",
    "import argparse\n",
    "import pickle \n",
    "import json\n",
    "import os \n",
    "\n",
    "\n",
    "def model_fn(model_dir):\n",
    "    \"\"\"\n",
    "    Load model created by Sagemaker training.\n",
    "    \"\"\"\n",
    "    model = pickle.load(open(os.path.join(model_dir, 'model'), 'rb'))\n",
    "    # Load caches/vectorizers/transformers here if needed\n",
    "    return model\n",
    "\n",
    "\n",
    "def input_fn(request_body, request_content_type):\n",
    "    if request_content_type == 'application/json':\n",
    "        # Add logic to transform incoming request or payload here if needed\n",
    "        return request_body\n",
    "    else:\n",
    "        raise ValueError(\"The model only supports application/json input\")\n",
    "\n",
    "\n",
    "def predict_fn(input_data, model):\n",
    "    X = json.loads(input_data)\n",
    "    X = np.array([X]).reshape(1, -1)\n",
    "    return model.predict(X)\n",
    "\n",
    "\n",
    "def output_fn(prediction, content_type):\n",
    "    # Add logic to transform output prediction or response here \n",
    "    out = {'prediction': prediction[0]}\n",
    "    return out\n",
    "\n",
    "if __name__ == '__main__':\n",
    "    parser = argparse.ArgumentParser()\n",
    "    parser.add_argument('--output-data-dir', type=str, default=os.environ.get('SM_OUTPUT_DATA_DIR'))\n",
    "    parser.add_argument('--model-dir', type=str, default=os.environ.get('SM_MODEL_DIR'))\n",
    "    parser.add_argument('--train', type=str, default=os.environ.get('SM_CHANNEL_TRAIN'))\n",
    "    parser.add_argument('--test', type=str, default=os.environ.get('SM_CHANNEL_TEST'))\n",
    "    args = parser.parse_args()\n",
    "    \n",
    "    # ------------------------- YOUR MODEL TRAINING LOGIC STARTS HERE -------------------------\n",
    "    # Load data from the location specified by args.train (In this case, an S3 bucket)\n",
    "    scaler = MinMaxScaler()\n",
    "    \n",
    "    train_data = pd.read_csv(os.path.join(args.train, 'train.csv'))\n",
    "    columns = train_data.columns.tolist()\n",
    "    train_data = scaler.fit_transform(train_data)\n",
    "    train_df = pd.DataFrame(train_data, columns=columns)\n",
    "    \n",
    "    y_train = train_df['DMIndicator']\n",
    "    X_train = train_df.drop('DMIndicator', axis=1)\n",
    "\n",
    "    model = RandomForestClassifier(n_estimators=227, \n",
    "                             max_depth=10, \n",
    "                             max_features='auto', \n",
    "                             class_weight='balanced')\n",
    "    model.fit(X_train, y_train)\n",
    "    # Save the model to the location specified by args.model_dir\n",
    "    pickle.dump(model, open(os.path.join(args.model_dir, 'model'), 'wb'))\n",
    "    # ------------------------- YOUR MODEL TRAINING LOGIC STOPS HERE -------------------------"
   ]
  },
  {
   "cell_type": "markdown",
   "metadata": {
    "ExecuteTime": {
     "end_time": "2020-08-23T01:25:02.234296Z",
     "start_time": "2020-08-23T01:25:02.231776Z"
    }
   },
   "source": [
    "### Train Model using SageMaker Training "
   ]
  },
  {
   "cell_type": "code",
   "execution_count": null,
   "metadata": {
    "ExecuteTime": {
     "end_time": "2020-08-24T16:43:40.988143Z",
     "start_time": "2020-08-24T16:43:40.772737Z"
    }
   },
   "outputs": [],
   "source": [
    "from sagemaker.sklearn.estimator import SKLearn\n",
    "from sagemaker import get_execution_role"
   ]
  },
  {
   "cell_type": "code",
   "execution_count": null,
   "metadata": {
    "ExecuteTime": {
     "end_time": "2020-08-24T16:43:46.382055Z",
     "start_time": "2020-08-24T16:43:45.211482Z"
    }
   },
   "outputs": [],
   "source": [
    "role = get_execution_role()"
   ]
  },
  {
   "cell_type": "markdown",
   "metadata": {},
   "source": [
    "#### Create SageMaker SKLearn Estimator"
   ]
  },
  {
   "cell_type": "code",
   "execution_count": null,
   "metadata": {
    "ExecuteTime": {
     "end_time": "2020-08-24T16:43:51.412327Z",
     "start_time": "2020-08-24T16:43:50.214690Z"
    }
   },
   "outputs": [],
   "source": [
    "estimator = SKLearn(entry_point='diabetes-prediction.py',\n",
    "                    train_instance_type='ml.m4.xlarge',\n",
    "                    train_instance_count=1, # Scikit-Learn does not support distributed training\n",
    "                    role=role)"
   ]
  },
  {
   "cell_type": "code",
   "execution_count": null,
   "metadata": {
    "ExecuteTime": {
     "end_time": "2020-08-24T16:43:55.177519Z",
     "start_time": "2020-08-24T16:43:55.171825Z"
    }
   },
   "outputs": [],
   "source": [
    "estimator.__dict__"
   ]
  },
  {
   "cell_type": "code",
   "execution_count": null,
   "metadata": {
    "ExecuteTime": {
     "end_time": "2020-08-24T16:48:12.052153Z",
     "start_time": "2020-08-24T16:43:59.371930Z"
    }
   },
   "outputs": [],
   "source": [
    "# Train the model by passing the path to the S3 bucket containing the training data\n",
    "estimator.fit({'train': 's3://{}/train'.format(bucket)})"
   ]
  },
  {
   "cell_type": "code",
   "execution_count": null,
   "metadata": {
    "ExecuteTime": {
     "end_time": "2020-08-24T16:51:12.407563Z",
     "start_time": "2020-08-24T16:51:12.403301Z"
    }
   },
   "outputs": [],
   "source": [
    "sagemaker_job_name = estimator.hyperparameters()['sagemaker_job_name'][1:-1]\n",
    "sagemaker_job_name"
   ]
  },
  {
   "cell_type": "markdown",
   "metadata": {},
   "source": [
    "### Test Trained Model Locally"
   ]
  },
  {
   "cell_type": "markdown",
   "metadata": {},
   "source": [
    "#### Download Trained Model from S3 to Local"
   ]
  },
  {
   "cell_type": "code",
   "execution_count": null,
   "metadata": {
    "ExecuteTime": {
     "end_time": "2020-08-24T16:51:17.223117Z",
     "start_time": "2020-08-24T16:51:16.867534Z"
    }
   },
   "outputs": [],
   "source": [
    "import tarfile\n",
    "import pickle\n",
    "import boto3\n",
    "\n",
    "\n",
    "# Create S3 client   \n",
    "bucket = 'sagemaker-us-east-1-892313895307'\n",
    "key = '{}/output/model.tar.gz'.format(sagemaker_job_name)\n",
    "local_model_tar = 'model.tar.gz'\n",
    "local_model_path = './DATA/{}'.format(local_model_tar)\n",
    "\n",
    "s3_client = boto3.resource('s3')  \n",
    "s3_client.Object(bucket, key).download_file(local_model_path)\n",
    "                                     \n",
    "# Uncompress\n",
    "tar = tarfile.open(local_model_path, 'r:gz')\n",
    "tar.extract('model','./DATA/')\n",
    "tar.close()\n",
    "\n",
    "# Load local model\n",
    "trained_model = pickle.load(open('./DATA/model', 'rb'))"
   ]
  },
  {
   "cell_type": "code",
   "execution_count": null,
   "metadata": {
    "ExecuteTime": {
     "end_time": "2020-08-24T16:51:21.259629Z",
     "start_time": "2020-08-24T16:51:21.250727Z"
    }
   },
   "outputs": [],
   "source": [
    "def model_fn(model_dir):\n",
    "    \"\"\"\n",
    "    Load model created by Sagemaker training.\n",
    "    \"\"\"\n",
    "    model = pickle.load(open(model_dir, 'rb'))\n",
    "    # Load caches/vectorizers/transformers here if needed\n",
    "    return model\n",
    "\n",
    "\n",
    "def input_fn(request_body, request_content_type):\n",
    "    if request_content_type == 'application/json':\n",
    "        # Add logic to transform incoming request or payload here if needed\n",
    "        return request_body\n",
    "    else:\n",
    "        raise ValueError(\"The model only supports application/json input\")\n",
    "\n",
    "\n",
    "def predict_fn(input_data, model):\n",
    "    X = json.loads(input_data)\n",
    "    X = np.array([X]).reshape(1, -1)\n",
    "    return model.predict(X)\n",
    "\n",
    "\n",
    "def output_fn(prediction, content_type):\n",
    "    # Add logic to transform output prediction or response here \n",
    "    out = {'prediction': prediction[0]}\n",
    "    return out"
   ]
  },
  {
   "cell_type": "markdown",
   "metadata": {},
   "source": [
    "#### Test Contracts using Loaded Local Model"
   ]
  },
  {
   "cell_type": "code",
   "execution_count": null,
   "metadata": {
    "ExecuteTime": {
     "end_time": "2020-08-24T17:07:09.043279Z",
     "start_time": "2020-08-24T17:07:08.965832Z"
    }
   },
   "outputs": [],
   "source": [
    "model_fn('./DATA/model')\n",
    "\n",
    "X = [0.11764705882352944,\n",
    "     0.28103467751044836,\n",
    "     0.3828168310705288,\n",
    "     0.4500000000000002,\n",
    "     0.21339252096527772,\n",
    "     0.14285714285714285,\n",
    "     0.37731203127272733,\n",
    "     0.3200722754898495,\n",
    "     0.18604651162790709,\n",
    "     0.123577893392233,\n",
    "     0.146005360532692,\n",
    "     0.25,\n",
    "     0.29641195141313426,\n",
    "     0.6845679012345679,\n",
    "     0.8893129770992365,\n",
    "     0.37457669566732366,\n",
    "     0.566510762819048,\n",
    "     0.8451278752421079,\n",
    "     0.1042988507084566,\n",
    "     0.29536806395243054,\n",
    "     0.8055555555555556,\n",
    "     0.5811981560536253,\n",
    "     0.4551585868073491,\n",
    "     0.6600139428866417,\n",
    "     0.40005396350833333,\n",
    "     0.05263157894736842,\n",
    "     0.40478776897287494,\n",
    "     0.6056338028169015,\n",
    "     0.517445664668329\n",
    "    ]\n",
    "\n",
    "request_body = json.dumps(X)\n",
    "content_type = 'application/json'\n",
    "input_fn_out = input_fn(request_body=request_body, request_content_type=content_type)\n",
    "print(input_fn_out)\n",
    "predict_fn_out = predict_fn(input_fn_out, trained_model)\n",
    "print(predict_fn_out)\n",
    "output_fn_out = output_fn(prediction=predict_fn_out, content_type='application/json')\n",
    "print(output_fn_out)"
   ]
  },
  {
   "cell_type": "markdown",
   "metadata": {},
   "source": [
    "### Deploy Trained Model using SageMaker Endpoints"
   ]
  },
  {
   "cell_type": "code",
   "execution_count": null,
   "metadata": {
    "ExecuteTime": {
     "end_time": "2020-08-24T16:59:08.219777Z",
     "start_time": "2020-08-24T16:51:35.618437Z"
    }
   },
   "outputs": [],
   "source": [
    "predictor = estimator.deploy(instance_type='ml.m4.xlarge', \n",
    "                             initial_instance_count=1)"
   ]
  },
  {
   "cell_type": "code",
   "execution_count": null,
   "metadata": {
    "ExecuteTime": {
     "end_time": "2020-08-24T16:59:12.137784Z",
     "start_time": "2020-08-24T16:59:12.134069Z"
    }
   },
   "outputs": [],
   "source": [
    "predictor.endpoint"
   ]
  },
  {
   "cell_type": "markdown",
   "metadata": {},
   "source": [
    "### Evaluate Deployed Model"
   ]
  },
  {
   "cell_type": "code",
   "execution_count": null,
   "metadata": {
    "ExecuteTime": {
     "end_time": "2020-08-24T17:00:44.799710Z",
     "start_time": "2020-08-24T17:00:44.791670Z"
    }
   },
   "outputs": [],
   "source": [
    "# Create Sagemaker run-time client using boto3\n",
    "client = boto3.client('sagemaker-runtime')\n",
    "\n",
    "endpoint_name = predictor.endpoint"
   ]
  },
  {
   "cell_type": "code",
   "execution_count": null,
   "metadata": {
    "ExecuteTime": {
     "end_time": "2020-08-24T17:01:34.764490Z",
     "start_time": "2020-08-24T17:01:34.735776Z"
    }
   },
   "outputs": [],
   "source": [
    "from sklearn.preprocessing import MinMaxScaler\n",
    "\n",
    "scaler = MinMaxScaler()\n",
    "\n",
    "test_data = pd.read_csv('./DATA/test.csv')\n",
    "columns = test_data.columns.tolist()\n",
    "test_data = scaler.fit_transform(test_data)\n",
    "test_df = pd.DataFrame(test_data, columns=columns)\n",
    "\n",
    "y_test_df = test_df['DMIndicator']\n",
    "X_test_df = test_df.drop('DMIndicator', axis=1)"
   ]
  },
  {
   "cell_type": "code",
   "execution_count": null,
   "metadata": {
    "ExecuteTime": {
     "end_time": "2020-08-24T17:01:39.713153Z",
     "start_time": "2020-08-24T17:01:39.707482Z"
    }
   },
   "outputs": [],
   "source": [
    "X_test = X_test_df.values.tolist()\n",
    "y_test = y_test_df.values.tolist()"
   ]
  },
  {
   "cell_type": "code",
   "execution_count": null,
   "metadata": {
    "ExecuteTime": {
     "end_time": "2020-08-24T17:01:45.148277Z",
     "start_time": "2020-08-24T17:01:45.144223Z"
    }
   },
   "outputs": [],
   "source": [
    "X_test[0]"
   ]
  },
  {
   "cell_type": "code",
   "execution_count": null,
   "metadata": {
    "ExecuteTime": {
     "end_time": "2020-08-24T17:01:52.610047Z",
     "start_time": "2020-08-24T17:01:52.605637Z"
    }
   },
   "outputs": [],
   "source": [
    "y_test[:20]"
   ]
  },
  {
   "cell_type": "code",
   "execution_count": null,
   "metadata": {
    "ExecuteTime": {
     "end_time": "2020-08-24T17:03:03.798125Z",
     "start_time": "2020-08-24T17:02:04.757782Z"
    }
   },
   "outputs": [],
   "source": [
    "y_predicted = []\n",
    "for i, X in enumerate(X_test):\n",
    "    response = client.invoke_endpoint(\n",
    "    EndpointName=endpoint_name,\n",
    "    Body=json.dumps(X),\n",
    "    ContentType='application/json')\n",
    "    y = response['Body'].read()\n",
    "    y = y.decode('utf-8')\n",
    "    y = json.loads(y)['prediction']\n",
    "    y_predicted.append(y)"
   ]
  },
  {
   "cell_type": "code",
   "execution_count": null,
   "metadata": {
    "ExecuteTime": {
     "end_time": "2020-08-24T17:06:26.619009Z",
     "start_time": "2020-08-24T17:06:26.600031Z"
    }
   },
   "outputs": [],
   "source": [
    "from sklearn.metrics import classification_report, confusion_matrix\n",
    "from sklearn.model_selection import cross_val_score\n",
    "\n",
    "\n",
    "print(\"================== Confusion Matrix ==================\")\n",
    "print(confusion_matrix(y_test, y_predicted))\n",
    "print('\\n')\n",
    "print(\"================== Classification Report ==================\")\n",
    "print(classification_report(y_test, y_predicted))"
   ]
  },
  {
   "cell_type": "code",
   "execution_count": null,
   "metadata": {
    "ExecuteTime": {
     "end_time": "2020-08-24T04:26:53.171919Z",
     "start_time": "2020-08-24T04:26:53.169718Z"
    }
   },
   "outputs": [],
   "source": [
    "# Uncomment and run to terminate the endpoint after you are finished\n",
    "# predictor.delete_endpoint()"
   ]
  },
  {
   "cell_type": "code",
   "execution_count": null,
   "metadata": {},
   "outputs": [],
   "source": []
  }
 ],
 "metadata": {
  "hide_input": false,
  "kernelspec": {
   "display_name": "conda_python3",
   "language": "python",
   "name": "conda_python3"
  },
  "language_info": {
   "codemirror_mode": {
    "name": "ipython",
    "version": 3
   },
   "file_extension": ".py",
   "mimetype": "text/x-python",
   "name": "python",
   "nbconvert_exporter": "python",
   "pygments_lexer": "ipython3",
   "version": "3.6.10"
  },
  "toc": {
   "base_numbering": 1,
   "nav_menu": {},
   "number_sections": true,
   "sideBar": true,
   "skip_h1_title": true,
   "title_cell": "Table of Contents",
   "title_sidebar": "Contents",
   "toc_cell": false,
   "toc_position": {},
   "toc_section_display": true,
   "toc_window_display": true
  },
  "varInspector": {
   "cols": {
    "lenName": 16,
    "lenType": 16,
    "lenVar": 40
   },
   "kernels_config": {
    "python": {
     "delete_cmd_postfix": "",
     "delete_cmd_prefix": "del ",
     "library": "var_list.py",
     "varRefreshCmd": "print(var_dic_list())"
    },
    "r": {
     "delete_cmd_postfix": ") ",
     "delete_cmd_prefix": "rm(",
     "library": "var_list.r",
     "varRefreshCmd": "cat(var_dic_list()) "
    }
   },
   "types_to_exclude": [
    "module",
    "function",
    "builtin_function_or_method",
    "instance",
    "_Feature"
   ],
   "window_display": false
  }
 },
 "nbformat": 4,
 "nbformat_minor": 4
}
