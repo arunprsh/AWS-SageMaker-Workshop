{
 "cells": [
  {
   "cell_type": "markdown",
   "metadata": {},
   "source": [
    "# Customer Churn Prediction with XGBoost\n",
    "<p>Using Gradient Boosted Trees to Predict Mobile Customer Departure</p>"
   ]
  },
  {
   "cell_type": "markdown",
   "metadata": {},
   "source": [
    "## Background\n",
    "\n",
    "_This notebook has been adapted from an [AWS blog post](https://aws.amazon.com/blogs/ai/predicting-customer-churn-with-amazon-machine-learning/)_\n",
    "\n",
    "Losing customers is costly for any business.  Identifying unhappy customers early on gives you a chance to offer them incentives to stay.  This notebook describes using machine learning (ML) for the automated identification of unhappy customers, also known as customer churn prediction."
   ]
  },
  {
   "cell_type": "markdown",
   "metadata": {},
   "source": [
    "## Setup"
   ]
  },
  {
   "cell_type": "markdown",
   "metadata": {},
   "source": [
    "### Imports"
   ]
  },
  {
   "cell_type": "code",
   "execution_count": 28,
   "metadata": {
    "ExecuteTime": {
     "end_time": "2020-07-23T01:15:44.159775Z",
     "start_time": "2020-07-23T01:15:44.155478Z"
    }
   },
   "outputs": [],
   "source": [
    "from sagemaker.amazon.amazon_estimator import get_image_uri\n",
    "from sagemaker import get_execution_role\n",
    "import pandas as pd\n",
    "import sagemaker\n",
    "import boto3\n",
    "import re"
   ]
  },
  {
   "cell_type": "code",
   "execution_count": 29,
   "metadata": {
    "ExecuteTime": {
     "end_time": "2020-07-23T01:15:44.339873Z",
     "start_time": "2020-07-23T01:15:44.335568Z"
    }
   },
   "outputs": [
    {
     "data": {
      "text/plain": [
       "'1.67.1.post0'"
      ]
     },
     "execution_count": 29,
     "metadata": {},
     "output_type": "execute_result"
    }
   ],
   "source": [
    "sagemaker.__version__"
   ]
  },
  {
   "cell_type": "markdown",
   "metadata": {},
   "source": [
    "### S3 Bucket + Session + Role"
   ]
  },
  {
   "cell_type": "code",
   "execution_count": 30,
   "metadata": {
    "ExecuteTime": {
     "end_time": "2020-07-23T01:15:44.823467Z",
     "start_time": "2020-07-23T01:15:44.642636Z"
    }
   },
   "outputs": [
    {
     "data": {
      "text/plain": [
       "'arn:aws:iam::892313895307:role/service-role/AmazonSageMaker-ExecutionRole-20200722T144616'"
      ]
     },
     "execution_count": 30,
     "metadata": {},
     "output_type": "execute_result"
    }
   ],
   "source": [
    "bucket = 'arunprsh-sagemaker'\n",
    "prefix = 'xgboost-churn'\n",
    "session = sagemaker.Session()\n",
    "role = get_execution_role()\n",
    "role"
   ]
  },
  {
   "cell_type": "markdown",
   "metadata": {},
   "source": [
    "### Container"
   ]
  },
  {
   "cell_type": "code",
   "execution_count": 31,
   "metadata": {
    "ExecuteTime": {
     "end_time": "2020-07-23T01:15:44.966761Z",
     "start_time": "2020-07-23T01:15:44.939914Z"
    }
   },
   "outputs": [
    {
     "name": "stderr",
     "output_type": "stream",
     "text": [
      "'get_image_uri' method will be deprecated in favor of 'ImageURIProvider' class in SageMaker Python SDK v2.\n"
     ]
    },
    {
     "data": {
      "text/plain": [
       "'683313688378.dkr.ecr.us-east-1.amazonaws.com/sagemaker-xgboost:1.0-1-cpu-py3'"
      ]
     },
     "execution_count": 31,
     "metadata": {},
     "output_type": "execute_result"
    }
   ],
   "source": [
    "container_image_uri = get_image_uri(boto3.Session().region_name, 'xgboost', '1.0-1')\n",
    "container_image_uri"
   ]
  },
  {
   "cell_type": "markdown",
   "metadata": {},
   "source": [
    "### S3 Pointers "
   ]
  },
  {
   "cell_type": "code",
   "execution_count": 32,
   "metadata": {
    "ExecuteTime": {
     "end_time": "2020-07-23T01:15:45.751110Z",
     "start_time": "2020-07-23T01:15:45.742811Z"
    }
   },
   "outputs": [
    {
     "name": "stderr",
     "output_type": "stream",
     "text": [
      "'s3_input' class will be renamed to 'TrainingInput' in SageMaker Python SDK v2.\n",
      "'s3_input' class will be renamed to 'TrainingInput' in SageMaker Python SDK v2.\n",
      "'s3_input' class will be renamed to 'TrainingInput' in SageMaker Python SDK v2.\n"
     ]
    }
   ],
   "source": [
    "s3_train_data_path = 's3://{}/{}/train'.format(bucket, prefix)\n",
    "s3_train_pointer = sagemaker.s3_input(s3_data=s3_train_data_path, content_type='csv')\n",
    "s3_validation_data_path = 's3://{}/{}/validation'.format(bucket, prefix)\n",
    "s3_validation_pointer = sagemaker.s3_input(s3_data=s3_validation_data_path, content_type='csv')\n",
    "s3_test_data_path = 's3://{}/{}/test'.format(bucket, prefix)\n",
    "s3_test_pointer = sagemaker.s3_input(s3_data=s3_test_data_path, content_type='csv')"
   ]
  },
  {
   "cell_type": "code",
   "execution_count": 33,
   "metadata": {
    "ExecuteTime": {
     "end_time": "2020-07-23T01:15:46.254980Z",
     "start_time": "2020-07-23T01:15:46.247889Z"
    }
   },
   "outputs": [
    {
     "data": {
      "text/plain": [
       "{'config': {'DataSource': {'S3DataSource': {'S3DataType': 'S3Prefix',\n",
       "    'S3Uri': 's3://arunprsh-sagemaker/xgboost-churn/train',\n",
       "    'S3DataDistributionType': 'FullyReplicated'}},\n",
       "  'ContentType': 'csv'}}"
      ]
     },
     "execution_count": 33,
     "metadata": {},
     "output_type": "execute_result"
    }
   ],
   "source": [
    "s3_train_pointer.__dict__"
   ]
  },
  {
   "cell_type": "markdown",
   "metadata": {},
   "source": [
    "#### Check Data"
   ]
  },
  {
   "cell_type": "code",
   "execution_count": 40,
   "metadata": {
    "ExecuteTime": {
     "end_time": "2020-07-23T01:22:32.532939Z",
     "start_time": "2020-07-23T01:22:32.527586Z"
    }
   },
   "outputs": [
    {
     "data": {
      "text/plain": [
       "'s3://arunprsh-sagemaker/xgboost-churn/train'"
      ]
     },
     "execution_count": 40,
     "metadata": {},
     "output_type": "execute_result"
    }
   ],
   "source": [
    "s3_train_data_path"
   ]
  },
  {
   "cell_type": "code",
   "execution_count": 39,
   "metadata": {
    "ExecuteTime": {
     "end_time": "2020-07-23T01:22:07.708145Z",
     "start_time": "2020-07-23T01:22:07.548333Z"
    }
   },
   "outputs": [
    {
     "data": {
      "text/html": [
       "<div>\n",
       "<style scoped>\n",
       "    .dataframe tbody tr th:only-of-type {\n",
       "        vertical-align: middle;\n",
       "    }\n",
       "\n",
       "    .dataframe tbody tr th {\n",
       "        vertical-align: top;\n",
       "    }\n",
       "\n",
       "    .dataframe thead th {\n",
       "        text-align: right;\n",
       "    }\n",
       "</style>\n",
       "<table border=\"1\" class=\"dataframe\">\n",
       "  <thead>\n",
       "    <tr style=\"text-align: right;\">\n",
       "      <th></th>\n",
       "      <th>0</th>\n",
       "      <th>106</th>\n",
       "      <th>0.1</th>\n",
       "      <th>274.4</th>\n",
       "      <th>120</th>\n",
       "      <th>198.6</th>\n",
       "      <th>82</th>\n",
       "      <th>160.8</th>\n",
       "      <th>62</th>\n",
       "      <th>6.0</th>\n",
       "      <th>...</th>\n",
       "      <th>0.49</th>\n",
       "      <th>0.50</th>\n",
       "      <th>0.51</th>\n",
       "      <th>0.52</th>\n",
       "      <th>0.53</th>\n",
       "      <th>1.2</th>\n",
       "      <th>1.3</th>\n",
       "      <th>0.54</th>\n",
       "      <th>1.4</th>\n",
       "      <th>0.55</th>\n",
       "    </tr>\n",
       "  </thead>\n",
       "  <tbody>\n",
       "    <tr>\n",
       "      <th>0</th>\n",
       "      <td>0</td>\n",
       "      <td>28</td>\n",
       "      <td>0</td>\n",
       "      <td>187.8</td>\n",
       "      <td>94</td>\n",
       "      <td>248.6</td>\n",
       "      <td>86</td>\n",
       "      <td>208.8</td>\n",
       "      <td>124</td>\n",
       "      <td>10.6</td>\n",
       "      <td>...</td>\n",
       "      <td>0</td>\n",
       "      <td>0</td>\n",
       "      <td>1</td>\n",
       "      <td>0</td>\n",
       "      <td>1</td>\n",
       "      <td>0</td>\n",
       "      <td>1</td>\n",
       "      <td>0</td>\n",
       "      <td>1</td>\n",
       "      <td>0</td>\n",
       "    </tr>\n",
       "    <tr>\n",
       "      <th>1</th>\n",
       "      <td>1</td>\n",
       "      <td>148</td>\n",
       "      <td>0</td>\n",
       "      <td>279.3</td>\n",
       "      <td>104</td>\n",
       "      <td>201.6</td>\n",
       "      <td>87</td>\n",
       "      <td>280.8</td>\n",
       "      <td>99</td>\n",
       "      <td>7.9</td>\n",
       "      <td>...</td>\n",
       "      <td>0</td>\n",
       "      <td>0</td>\n",
       "      <td>0</td>\n",
       "      <td>0</td>\n",
       "      <td>1</td>\n",
       "      <td>0</td>\n",
       "      <td>1</td>\n",
       "      <td>0</td>\n",
       "      <td>1</td>\n",
       "      <td>0</td>\n",
       "    </tr>\n",
       "    <tr>\n",
       "      <th>2</th>\n",
       "      <td>0</td>\n",
       "      <td>132</td>\n",
       "      <td>0</td>\n",
       "      <td>191.9</td>\n",
       "      <td>107</td>\n",
       "      <td>206.9</td>\n",
       "      <td>127</td>\n",
       "      <td>272.0</td>\n",
       "      <td>88</td>\n",
       "      <td>12.6</td>\n",
       "      <td>...</td>\n",
       "      <td>0</td>\n",
       "      <td>0</td>\n",
       "      <td>0</td>\n",
       "      <td>0</td>\n",
       "      <td>0</td>\n",
       "      <td>1</td>\n",
       "      <td>1</td>\n",
       "      <td>0</td>\n",
       "      <td>1</td>\n",
       "      <td>0</td>\n",
       "    </tr>\n",
       "    <tr>\n",
       "      <th>3</th>\n",
       "      <td>0</td>\n",
       "      <td>92</td>\n",
       "      <td>29</td>\n",
       "      <td>155.4</td>\n",
       "      <td>110</td>\n",
       "      <td>188.5</td>\n",
       "      <td>104</td>\n",
       "      <td>254.9</td>\n",
       "      <td>118</td>\n",
       "      <td>8.0</td>\n",
       "      <td>...</td>\n",
       "      <td>0</td>\n",
       "      <td>0</td>\n",
       "      <td>0</td>\n",
       "      <td>0</td>\n",
       "      <td>0</td>\n",
       "      <td>1</td>\n",
       "      <td>1</td>\n",
       "      <td>0</td>\n",
       "      <td>0</td>\n",
       "      <td>1</td>\n",
       "    </tr>\n",
       "    <tr>\n",
       "      <th>4</th>\n",
       "      <td>0</td>\n",
       "      <td>131</td>\n",
       "      <td>25</td>\n",
       "      <td>192.7</td>\n",
       "      <td>85</td>\n",
       "      <td>225.9</td>\n",
       "      <td>105</td>\n",
       "      <td>254.2</td>\n",
       "      <td>59</td>\n",
       "      <td>10.9</td>\n",
       "      <td>...</td>\n",
       "      <td>0</td>\n",
       "      <td>0</td>\n",
       "      <td>0</td>\n",
       "      <td>0</td>\n",
       "      <td>1</td>\n",
       "      <td>0</td>\n",
       "      <td>1</td>\n",
       "      <td>0</td>\n",
       "      <td>0</td>\n",
       "      <td>1</td>\n",
       "    </tr>\n",
       "  </tbody>\n",
       "</table>\n",
       "<p>5 rows × 70 columns</p>\n",
       "</div>"
      ],
      "text/plain": [
       "   0  106  0.1  274.4  120  198.6   82  160.8   62   6.0  ...  0.49  0.50  \\\n",
       "0  0   28    0  187.8   94  248.6   86  208.8  124  10.6  ...     0     0   \n",
       "1  1  148    0  279.3  104  201.6   87  280.8   99   7.9  ...     0     0   \n",
       "2  0  132    0  191.9  107  206.9  127  272.0   88  12.6  ...     0     0   \n",
       "3  0   92   29  155.4  110  188.5  104  254.9  118   8.0  ...     0     0   \n",
       "4  0  131   25  192.7   85  225.9  105  254.2   59  10.9  ...     0     0   \n",
       "\n",
       "   0.51  0.52  0.53  1.2  1.3  0.54  1.4  0.55  \n",
       "0     1     0     1    0    1     0    1     0  \n",
       "1     0     0     1    0    1     0    1     0  \n",
       "2     0     0     0    1    1     0    1     0  \n",
       "3     0     0     0    1    1     0    0     1  \n",
       "4     0     0     1    0    1     0    0     1  \n",
       "\n",
       "[5 rows x 70 columns]"
      ]
     },
     "execution_count": 39,
     "metadata": {},
     "output_type": "execute_result"
    }
   ],
   "source": [
    "train_df = pd.read_csv('/'.join([s3_train_data_path, 'train.csv']), sep=',')\n",
    "train_df.head()"
   ]
  },
  {
   "cell_type": "markdown",
   "metadata": {},
   "source": [
    "## Train"
   ]
  },
  {
   "cell_type": "markdown",
   "metadata": {},
   "source": [
    "Now, we can specify a few parameters like what type of training instances we'd like to use and how many, as well as our XGBoost hyperparameters.  A few key hyperparameters are:\n",
    "- `max_depth` controls how deep each tree within the algorithm can be built.  Deeper trees can lead to better fit, but are more computationally expensive and can lead to overfitting.  There is typically some trade-off in model performance that needs to be explored between a large number of shallow trees and a smaller number of deeper trees.\n",
    "- `subsample` controls sampling of the training data.  This technique can help reduce overfitting, but setting it too low can also starve the model of data.\n",
    "- `num_round` controls the number of boosting rounds.  This is essentially the subsequent models that are trained using the residuals of previous iterations.  Again, more rounds should produce a better fit on the training data, but can be computationally expensive or lead to overfitting.\n",
    "- `eta` controls how aggressive each round of boosting is.  Larger values lead to more conservative boosting.\n",
    "- `gamma` controls how aggressively trees are grown.  Larger values lead to more conservative models.\n",
    "\n",
    "More detail on XGBoost's hyperparmeters can be found on their GitHub [page](https://github.com/dmlc/xgboost/blob/master/doc/parameter.md)."
   ]
  },
  {
   "cell_type": "code",
   "execution_count": 43,
   "metadata": {
    "ExecuteTime": {
     "end_time": "2020-07-23T01:29:05.078714Z",
     "start_time": "2020-07-23T01:24:22.110917Z"
    }
   },
   "outputs": [
    {
     "name": "stderr",
     "output_type": "stream",
     "text": [
      "WARNING:root:Parameter image_name will be renamed to image_uri in SageMaker Python SDK v2.\n"
     ]
    },
    {
     "name": "stdout",
     "output_type": "stream",
     "text": [
      "2020-07-23 01:24:22 Starting - Starting the training job...\n",
      "2020-07-23 01:24:26 Starting - Launching requested ML instances.........\n",
      "2020-07-23 01:26:08 Starting - Preparing the instances for training......\n",
      "2020-07-23 01:27:09 Downloading - Downloading input data......\n",
      "2020-07-23 01:28:22 Training - Training image download completed. Training in progress...\u001b[34mINFO:sagemaker-containers:Imported framework sagemaker_xgboost_container.training\u001b[0m\n",
      "\u001b[34mINFO:sagemaker-containers:Failed to parse hyperparameter objective value binary:logistic to Json.\u001b[0m\n",
      "\u001b[34mReturning the value itself\u001b[0m\n",
      "\u001b[34mINFO:sagemaker-containers:No GPUs detected (normal if no gpus installed)\u001b[0m\n",
      "\u001b[34mINFO:sagemaker_xgboost_container.training:Running XGBoost Sagemaker in algorithm mode\u001b[0m\n",
      "\u001b[34mINFO:root:Determined delimiter of CSV input is ','\u001b[0m\n",
      "\u001b[34mINFO:root:Determined delimiter of CSV input is ','\u001b[0m\n",
      "\u001b[34mINFO:root:Determined delimiter of CSV input is ','\u001b[0m\n",
      "\u001b[34m[01:28:25] 2333x69 matrix with 160977 entries loaded from /opt/ml/input/data/train?format=csv&label_column=0&delimiter=,\u001b[0m\n",
      "\u001b[34mINFO:root:Determined delimiter of CSV input is ','\u001b[0m\n",
      "\u001b[34m[01:28:25] 666x69 matrix with 45954 entries loaded from /opt/ml/input/data/validation?format=csv&label_column=0&delimiter=,\u001b[0m\n",
      "\u001b[34mINFO:root:Single node training.\u001b[0m\n",
      "\u001b[34mINFO:root:Train matrix has 2333 rows\u001b[0m\n",
      "\u001b[34mINFO:root:Validation matrix has 666 rows\u001b[0m\n",
      "\u001b[34m[01:28:25] WARNING: /workspace/src/learner.cc:328: \u001b[0m\n",
      "\u001b[34mParameters: { num_round, silent } might not be used.\n",
      "\n",
      "  This may not be accurate due to some parameters are only used in language bindings but\n",
      "  passed down to XGBoost core.  Or some parameters are not used but slip through this\n",
      "  verification. Please open an issue if you find above cases.\n",
      "\n",
      "\u001b[0m\n",
      "\u001b[34m[0]#011train-error:0.07715#011validation-error:0.09910\u001b[0m\n",
      "\u001b[34m[1]#011train-error:0.05058#011validation-error:0.08108\u001b[0m\n",
      "\u001b[34m[2]#011train-error:0.04886#011validation-error:0.07508\u001b[0m\n",
      "\u001b[34m[3]#011train-error:0.04672#011validation-error:0.07207\u001b[0m\n",
      "\u001b[34m[4]#011train-error:0.04801#011validation-error:0.07357\u001b[0m\n",
      "\u001b[34m[5]#011train-error:0.04672#011validation-error:0.07057\u001b[0m\n",
      "\u001b[34m[6]#011train-error:0.04544#011validation-error:0.07357\u001b[0m\n",
      "\u001b[34m[7]#011train-error:0.04372#011validation-error:0.06907\u001b[0m\n",
      "\u001b[34m[8]#011train-error:0.04501#011validation-error:0.06907\u001b[0m\n",
      "\u001b[34m[9]#011train-error:0.04244#011validation-error:0.06607\u001b[0m\n",
      "\u001b[34m[10]#011train-error:0.04029#011validation-error:0.06456\u001b[0m\n",
      "\u001b[34m[11]#011train-error:0.03901#011validation-error:0.06757\u001b[0m\n",
      "\u001b[34m[12]#011train-error:0.03858#011validation-error:0.06456\u001b[0m\n",
      "\u001b[34m[13]#011train-error:0.03772#011validation-error:0.06456\u001b[0m\n",
      "\u001b[34m[14]#011train-error:0.03772#011validation-error:0.06607\u001b[0m\n",
      "\u001b[34m[15]#011train-error:0.03943#011validation-error:0.06757\u001b[0m\n",
      "\u001b[34m[16]#011train-error:0.03858#011validation-error:0.06306\u001b[0m\n",
      "\u001b[34m[17]#011train-error:0.03772#011validation-error:0.06456\u001b[0m\n",
      "\u001b[34m[18]#011train-error:0.03943#011validation-error:0.06306\u001b[0m\n",
      "\u001b[34m[19]#011train-error:0.03986#011validation-error:0.06006\u001b[0m\n",
      "\u001b[34m[20]#011train-error:0.03943#011validation-error:0.06306\u001b[0m\n",
      "\u001b[34m[21]#011train-error:0.03858#011validation-error:0.06306\u001b[0m\n",
      "\u001b[34m[22]#011train-error:0.03815#011validation-error:0.06607\u001b[0m\n",
      "\u001b[34m[23]#011train-error:0.03686#011validation-error:0.06757\u001b[0m\n",
      "\u001b[34m[24]#011train-error:0.03601#011validation-error:0.06757\u001b[0m\n",
      "\u001b[34m[25]#011train-error:0.03429#011validation-error:0.06757\u001b[0m\n",
      "\u001b[34m[26]#011train-error:0.03386#011validation-error:0.06907\u001b[0m\n",
      "\u001b[34m[27]#011train-error:0.03386#011validation-error:0.06907\u001b[0m\n",
      "\u001b[34m[28]#011train-error:0.03386#011validation-error:0.06757\u001b[0m\n",
      "\u001b[34m[29]#011train-error:0.03386#011validation-error:0.07207\u001b[0m\n",
      "\u001b[34m[30]#011train-error:0.03386#011validation-error:0.07057\u001b[0m\n",
      "\u001b[34m[31]#011train-error:0.03429#011validation-error:0.07207\u001b[0m\n",
      "\u001b[34m[32]#011train-error:0.03472#011validation-error:0.07057\u001b[0m\n",
      "\u001b[34m[33]#011train-error:0.03472#011validation-error:0.06907\u001b[0m\n",
      "\u001b[34m[34]#011train-error:0.03300#011validation-error:0.06907\u001b[0m\n",
      "\u001b[34m[35]#011train-error:0.03386#011validation-error:0.06907\u001b[0m\n",
      "\u001b[34m[36]#011train-error:0.03386#011validation-error:0.06907\u001b[0m\n",
      "\u001b[34m[37]#011train-error:0.03300#011validation-error:0.06757\u001b[0m\n",
      "\u001b[34m[38]#011train-error:0.03343#011validation-error:0.06757\u001b[0m\n",
      "\u001b[34m[39]#011train-error:0.03300#011validation-error:0.06757\u001b[0m\n",
      "\u001b[34m[40]#011train-error:0.03172#011validation-error:0.06907\u001b[0m\n",
      "\u001b[34m[41]#011train-error:0.03172#011validation-error:0.06907\u001b[0m\n",
      "\u001b[34m[42]#011train-error:0.03086#011validation-error:0.06907\u001b[0m\n",
      "\u001b[34m[43]#011train-error:0.03129#011validation-error:0.06907\u001b[0m\n",
      "\u001b[34m[44]#011train-error:0.03086#011validation-error:0.06757\u001b[0m\n",
      "\u001b[34m[45]#011train-error:0.03129#011validation-error:0.06757\u001b[0m\n",
      "\u001b[34m[46]#011train-error:0.03086#011validation-error:0.06607\u001b[0m\n",
      "\u001b[34m[47]#011train-error:0.03086#011validation-error:0.06607\u001b[0m\n",
      "\u001b[34m[48]#011train-error:0.03043#011validation-error:0.06607\u001b[0m\n",
      "\u001b[34m[49]#011train-error:0.03000#011validation-error:0.06757\u001b[0m\n",
      "\u001b[34m[50]#011train-error:0.03000#011validation-error:0.06757\u001b[0m\n",
      "\u001b[34m[51]#011train-error:0.03000#011validation-error:0.06607\u001b[0m\n",
      "\u001b[34m[52]#011train-error:0.03000#011validation-error:0.06607\u001b[0m\n",
      "\u001b[34m[53]#011train-error:0.03000#011validation-error:0.06607\u001b[0m\n",
      "\u001b[34m[54]#011train-error:0.03000#011validation-error:0.06607\u001b[0m\n",
      "\u001b[34m[55]#011train-error:0.03043#011validation-error:0.06757\u001b[0m\n",
      "\u001b[34m[56]#011train-error:0.03043#011validation-error:0.06757\u001b[0m\n",
      "\u001b[34m[57]#011train-error:0.03043#011validation-error:0.06757\u001b[0m\n",
      "\u001b[34m[58]#011train-error:0.03043#011validation-error:0.06757\u001b[0m\n",
      "\u001b[34m[59]#011train-error:0.03043#011validation-error:0.06757\u001b[0m\n",
      "\u001b[34m[60]#011train-error:0.03043#011validation-error:0.06757\u001b[0m\n",
      "\u001b[34m[61]#011train-error:0.03043#011validation-error:0.06757\u001b[0m\n",
      "\u001b[34m[62]#011train-error:0.03043#011validation-error:0.06757\u001b[0m\n",
      "\u001b[34m[63]#011train-error:0.03043#011validation-error:0.06757\u001b[0m\n",
      "\u001b[34m[64]#011train-error:0.03043#011validation-error:0.06757\u001b[0m\n",
      "\u001b[34m[65]#011train-error:0.03043#011validation-error:0.06757\u001b[0m\n",
      "\u001b[34m[66]#011train-error:0.03043#011validation-error:0.06757\u001b[0m\n",
      "\u001b[34m[67]#011train-error:0.03043#011validation-error:0.06757\u001b[0m\n",
      "\u001b[34m[68]#011train-error:0.02915#011validation-error:0.06757\u001b[0m\n",
      "\u001b[34m[69]#011train-error:0.02915#011validation-error:0.06607\u001b[0m\n",
      "\u001b[34m[70]#011train-error:0.02915#011validation-error:0.06757\u001b[0m\n",
      "\u001b[34m[71]#011train-error:0.02872#011validation-error:0.06607\u001b[0m\n",
      "\u001b[34m[72]#011train-error:0.02915#011validation-error:0.06607\u001b[0m\n",
      "\u001b[34m[73]#011train-error:0.02915#011validation-error:0.06607\u001b[0m\n",
      "\u001b[34m[74]#011train-error:0.02915#011validation-error:0.06607\u001b[0m\n",
      "\u001b[34m[75]#011train-error:0.02915#011validation-error:0.06607\u001b[0m\n",
      "\u001b[34m[76]#011train-error:0.02915#011validation-error:0.06607\u001b[0m\n",
      "\u001b[34m[77]#011train-error:0.02915#011validation-error:0.06607\u001b[0m\n",
      "\u001b[34m[78]#011train-error:0.02958#011validation-error:0.06607\u001b[0m\n",
      "\u001b[34m[79]#011train-error:0.03000#011validation-error:0.06607\u001b[0m\n",
      "\u001b[34m[80]#011train-error:0.02958#011validation-error:0.06607\u001b[0m\n",
      "\u001b[34m[81]#011train-error:0.02829#011validation-error:0.06607\u001b[0m\n",
      "\u001b[34m[82]#011train-error:0.02829#011validation-error:0.06607\u001b[0m\n",
      "\u001b[34m[83]#011train-error:0.02829#011validation-error:0.06607\u001b[0m\n",
      "\u001b[34m[84]#011train-error:0.02786#011validation-error:0.06607\u001b[0m\n",
      "\u001b[34m[85]#011train-error:0.02786#011validation-error:0.06607\u001b[0m\n",
      "\u001b[34m[86]#011train-error:0.02786#011validation-error:0.06607\u001b[0m\n",
      "\u001b[34m[87]#011train-error:0.02786#011validation-error:0.06607\u001b[0m\n",
      "\u001b[34m[88]#011train-error:0.02829#011validation-error:0.06607\u001b[0m\n",
      "\u001b[34m[89]#011train-error:0.02829#011validation-error:0.06607\u001b[0m\n",
      "\u001b[34m[90]#011train-error:0.02786#011validation-error:0.06607\u001b[0m\n",
      "\u001b[34m[91]#011train-error:0.02786#011validation-error:0.06607\u001b[0m\n",
      "\u001b[34m[92]#011train-error:0.02829#011validation-error:0.06607\u001b[0m\n",
      "\u001b[34m[93]#011train-error:0.02786#011validation-error:0.06607\u001b[0m\n",
      "\u001b[34m[94]#011train-error:0.02786#011validation-error:0.06607\u001b[0m\n",
      "\u001b[34m[95]#011train-error:0.02786#011validation-error:0.06607\u001b[0m\n",
      "\u001b[34m[96]#011train-error:0.02829#011validation-error:0.06607\u001b[0m\n",
      "\u001b[34m[97]#011train-error:0.02829#011validation-error:0.06607\u001b[0m\n",
      "\u001b[34m[98]#011train-error:0.02829#011validation-error:0.06607\u001b[0m\n",
      "\u001b[34m[99]#011train-error:0.02829#011validation-error:0.06607\u001b[0m\n",
      "\n",
      "2020-07-23 01:28:35 Uploading - Uploading generated training model\n",
      "2020-07-23 01:28:35 Completed - Training job completed\n",
      "Training seconds: 86\n",
      "Billable seconds: 86\n"
     ]
    }
   ],
   "source": [
    "xgb = sagemaker.estimator.Estimator(container_image_uri,\n",
    "                                    role, \n",
    "                                    train_instance_count=1, \n",
    "                                    train_instance_type='ml.m4.xlarge',\n",
    "                                    output_path='s3://{}/{}/output'.format(bucket, prefix),\n",
    "                                    sagemaker_session=session)\n",
    "\n",
    "xgb.set_hyperparameters(max_depth=5,\n",
    "                        eta=0.2,\n",
    "                        gamma=4,\n",
    "                        min_child_weight=6,\n",
    "                        subsample=0.8,\n",
    "                        silent=0,\n",
    "                        objective='binary:logistic',\n",
    "                        num_round=100)\n",
    "\n",
    "xgb.fit({'train': s3_input_train, 'validation': s3_input_validation}) "
   ]
  },
  {
   "cell_type": "code",
   "execution_count": 45,
   "metadata": {
    "ExecuteTime": {
     "end_time": "2020-07-23T01:41:05.958796Z",
     "start_time": "2020-07-23T01:41:05.948726Z"
    }
   },
   "outputs": [
    {
     "data": {
      "text/plain": [
       "{'image_name': '683313688378.dkr.ecr.us-east-1.amazonaws.com/sagemaker-xgboost:1.0-1-cpu-py3',\n",
       " 'hyperparam_dict': {'max_depth': 5,\n",
       "  'eta': 0.2,\n",
       "  'gamma': 4,\n",
       "  'min_child_weight': 6,\n",
       "  'subsample': 0.8,\n",
       "  'silent': 0,\n",
       "  'objective': 'binary:logistic',\n",
       "  'num_round': 100},\n",
       " 'role': 'arn:aws:iam::892313895307:role/service-role/AmazonSageMaker-ExecutionRole-20200722T144616',\n",
       " 'train_instance_count': 1,\n",
       " 'train_instance_type': 'ml.m4.xlarge',\n",
       " 'train_volume_size': 30,\n",
       " 'train_volume_kms_key': None,\n",
       " 'train_max_run': 86400,\n",
       " 'input_mode': 'File',\n",
       " 'tags': None,\n",
       " 'metric_definitions': None,\n",
       " 'model_uri': None,\n",
       " 'model_channel_name': 'model',\n",
       " 'code_uri': None,\n",
       " 'code_channel_name': 'code',\n",
       " 'sagemaker_session': <sagemaker.session.Session at 0x7f61144949e8>,\n",
       " 'base_job_name': None,\n",
       " '_current_job_name': 'sagemaker-xgboost-2020-07-23-01-24-22-116',\n",
       " 'output_path': 's3://arunprsh-sagemaker/xgboost-churn/output',\n",
       " 'output_kms_key': None,\n",
       " 'latest_training_job': <sagemaker.estimator._TrainingJob at 0x7f611911f128>,\n",
       " 'jobs': [<sagemaker.estimator._TrainingJob at 0x7f611911f128>],\n",
       " 'deploy_instance_type': None,\n",
       " '_compiled_models': {},\n",
       " 'subnets': None,\n",
       " 'security_group_ids': None,\n",
       " 'encrypt_inter_container_traffic': False,\n",
       " 'train_use_spot_instances': False,\n",
       " 'train_max_wait': None,\n",
       " 'checkpoint_s3_uri': None,\n",
       " 'checkpoint_local_path': None,\n",
       " 'rules': None,\n",
       " 'debugger_hook_config': None,\n",
       " 'tensorboard_output_config': None,\n",
       " 'debugger_rule_configs': [],\n",
       " 'collection_configs': set(),\n",
       " 'enable_sagemaker_metrics': None,\n",
       " '_enable_network_isolation': False}"
      ]
     },
     "execution_count": 45,
     "metadata": {},
     "output_type": "execute_result"
    }
   ],
   "source": [
    "xgb.__dict__"
   ]
  },
  {
   "cell_type": "markdown",
   "metadata": {},
   "source": [
    "## Host\n",
    "\n",
    "Now that we've trained a model, let's deploy it to a hosted endpoint."
   ]
  },
  {
   "cell_type": "code",
   "execution_count": 46,
   "metadata": {
    "ExecuteTime": {
     "end_time": "2020-07-23T01:49:20.348790Z",
     "start_time": "2020-07-23T01:41:47.723013Z"
    }
   },
   "outputs": [
    {
     "name": "stderr",
     "output_type": "stream",
     "text": [
      "WARNING:sagemaker:Parameter image will be renamed to image_uri in SageMaker Python SDK v2.\n"
     ]
    },
    {
     "name": "stdout",
     "output_type": "stream",
     "text": [
      "---------------!"
     ]
    }
   ],
   "source": [
    "xgb_predictor = xgb.deploy(initial_instance_count = 1, instance_type = 'ml.m4.xlarge')"
   ]
  },
  {
   "cell_type": "code",
   "execution_count": 49,
   "metadata": {
    "ExecuteTime": {
     "end_time": "2020-07-23T01:49:49.125170Z",
     "start_time": "2020-07-23T01:49:49.116425Z"
    }
   },
   "outputs": [
    {
     "data": {
      "text/plain": [
       "'sagemaker-xgboost-2020-07-23-01-24-22-116'"
      ]
     },
     "execution_count": 49,
     "metadata": {},
     "output_type": "execute_result"
    }
   ],
   "source": [
    "xgb_predictor.endpoint"
   ]
  },
  {
   "cell_type": "code",
   "execution_count": 50,
   "metadata": {
    "ExecuteTime": {
     "end_time": "2020-07-23T01:50:57.984021Z",
     "start_time": "2020-07-23T01:50:57.978895Z"
    }
   },
   "outputs": [
    {
     "data": {
      "text/plain": [
       "{'endpoint': 'sagemaker-xgboost-2020-07-23-01-24-22-116',\n",
       " 'sagemaker_session': <sagemaker.session.Session at 0x7f61144949e8>,\n",
       " 'serializer': None,\n",
       " 'deserializer': None,\n",
       " 'content_type': None,\n",
       " 'accept': None,\n",
       " '_endpoint_config_name': 'sagemaker-xgboost-2020-07-23-01-24-22-116',\n",
       " '_model_names': <map at 0x7f6113b36390>}"
      ]
     },
     "execution_count": 50,
     "metadata": {},
     "output_type": "execute_result"
    }
   ],
   "source": [
    "xgb_predictor.__dict__"
   ]
  },
  {
   "cell_type": "markdown",
   "metadata": {},
   "source": [
    "## Evaluate\n",
    "\n",
    "Now that we have a hosted endpoint running, we can make real-time predictions from our model very easily, simply by making an http POST request.  But first, we'll need to setup serializers and deserializers for passing our `test_data` NumPy arrays to the model behind the endpoint."
   ]
  },
  {
   "cell_type": "code",
   "execution_count": 52,
   "metadata": {
    "ExecuteTime": {
     "end_time": "2020-07-23T01:51:47.828986Z",
     "start_time": "2020-07-23T01:51:47.823118Z"
    }
   },
   "outputs": [],
   "source": [
    "from sagemaker.predictor import csv_serializer"
   ]
  },
  {
   "cell_type": "code",
   "execution_count": 53,
   "metadata": {
    "ExecuteTime": {
     "end_time": "2020-07-23T01:51:48.813928Z",
     "start_time": "2020-07-23T01:51:48.809361Z"
    }
   },
   "outputs": [],
   "source": [
    "xgb_predictor.content_type = 'text/csv'\n",
    "xgb_predictor.serializer = csv_serializer"
   ]
  },
  {
   "cell_type": "markdown",
   "metadata": {},
   "source": [
    "Now, we'll use a simple function to:\n",
    "1. Loop over our test dataset\n",
    "1. Split it into mini-batches of rows \n",
    "1. Convert those mini-batchs to CSV string payloads\n",
    "1. Retrieve mini-batch predictions by invoking the XGBoost endpoint\n",
    "1. Collect predictions and convert from the CSV output our model provides into a NumPy array"
   ]
  },
  {
   "cell_type": "code",
   "execution_count": 54,
   "metadata": {
    "ExecuteTime": {
     "end_time": "2020-07-23T01:52:47.321524Z",
     "start_time": "2020-07-23T01:52:47.316763Z"
    }
   },
   "outputs": [],
   "source": [
    "def predict(data, rows=500):\n",
    "    split_array = np.array_split(data, int(data.shape[0] / float(rows) + 1))\n",
    "    predictions = ''\n",
    "    for array in split_array:\n",
    "        predictions = ','.join([predictions, xgb_predictor.predict(array).decode('utf-8')])\n",
    "\n",
    "    return np.fromstring(predictions[1:], sep=',')"
   ]
  },
  {
   "cell_type": "code",
   "execution_count": 55,
   "metadata": {
    "ExecuteTime": {
     "end_time": "2020-07-23T01:54:33.508281Z",
     "start_time": "2020-07-23T01:54:33.364689Z"
    }
   },
   "outputs": [
    {
     "data": {
      "text/html": [
       "<div>\n",
       "<style scoped>\n",
       "    .dataframe tbody tr th:only-of-type {\n",
       "        vertical-align: middle;\n",
       "    }\n",
       "\n",
       "    .dataframe tbody tr th {\n",
       "        vertical-align: top;\n",
       "    }\n",
       "\n",
       "    .dataframe thead th {\n",
       "        text-align: right;\n",
       "    }\n",
       "</style>\n",
       "<table border=\"1\" class=\"dataframe\">\n",
       "  <thead>\n",
       "    <tr style=\"text-align: right;\">\n",
       "      <th></th>\n",
       "      <th>0</th>\n",
       "      <th>186</th>\n",
       "      <th>0.1</th>\n",
       "      <th>137.8</th>\n",
       "      <th>97</th>\n",
       "      <th>187.7</th>\n",
       "      <th>118</th>\n",
       "      <th>146.4</th>\n",
       "      <th>85</th>\n",
       "      <th>8.7</th>\n",
       "      <th>...</th>\n",
       "      <th>0.49</th>\n",
       "      <th>0.50</th>\n",
       "      <th>0.51</th>\n",
       "      <th>0.52</th>\n",
       "      <th>0.53</th>\n",
       "      <th>1.2</th>\n",
       "      <th>1.3</th>\n",
       "      <th>0.54</th>\n",
       "      <th>1.4</th>\n",
       "      <th>0.55</th>\n",
       "    </tr>\n",
       "  </thead>\n",
       "  <tbody>\n",
       "    <tr>\n",
       "      <th>0</th>\n",
       "      <td>0</td>\n",
       "      <td>132</td>\n",
       "      <td>25</td>\n",
       "      <td>113.2</td>\n",
       "      <td>96</td>\n",
       "      <td>269.9</td>\n",
       "      <td>107</td>\n",
       "      <td>229.1</td>\n",
       "      <td>87</td>\n",
       "      <td>7.1</td>\n",
       "      <td>...</td>\n",
       "      <td>0</td>\n",
       "      <td>0</td>\n",
       "      <td>0</td>\n",
       "      <td>0</td>\n",
       "      <td>1</td>\n",
       "      <td>0</td>\n",
       "      <td>1</td>\n",
       "      <td>0</td>\n",
       "      <td>0</td>\n",
       "      <td>1</td>\n",
       "    </tr>\n",
       "    <tr>\n",
       "      <th>1</th>\n",
       "      <td>0</td>\n",
       "      <td>112</td>\n",
       "      <td>17</td>\n",
       "      <td>183.2</td>\n",
       "      <td>95</td>\n",
       "      <td>252.8</td>\n",
       "      <td>125</td>\n",
       "      <td>156.7</td>\n",
       "      <td>95</td>\n",
       "      <td>9.7</td>\n",
       "      <td>...</td>\n",
       "      <td>0</td>\n",
       "      <td>0</td>\n",
       "      <td>0</td>\n",
       "      <td>0</td>\n",
       "      <td>1</td>\n",
       "      <td>0</td>\n",
       "      <td>1</td>\n",
       "      <td>0</td>\n",
       "      <td>0</td>\n",
       "      <td>1</td>\n",
       "    </tr>\n",
       "    <tr>\n",
       "      <th>2</th>\n",
       "      <td>0</td>\n",
       "      <td>91</td>\n",
       "      <td>24</td>\n",
       "      <td>93.5</td>\n",
       "      <td>112</td>\n",
       "      <td>183.4</td>\n",
       "      <td>128</td>\n",
       "      <td>240.7</td>\n",
       "      <td>133</td>\n",
       "      <td>9.9</td>\n",
       "      <td>...</td>\n",
       "      <td>0</td>\n",
       "      <td>0</td>\n",
       "      <td>0</td>\n",
       "      <td>0</td>\n",
       "      <td>0</td>\n",
       "      <td>1</td>\n",
       "      <td>0</td>\n",
       "      <td>1</td>\n",
       "      <td>0</td>\n",
       "      <td>1</td>\n",
       "    </tr>\n",
       "    <tr>\n",
       "      <th>3</th>\n",
       "      <td>0</td>\n",
       "      <td>22</td>\n",
       "      <td>0</td>\n",
       "      <td>110.3</td>\n",
       "      <td>107</td>\n",
       "      <td>166.5</td>\n",
       "      <td>93</td>\n",
       "      <td>202.3</td>\n",
       "      <td>96</td>\n",
       "      <td>9.5</td>\n",
       "      <td>...</td>\n",
       "      <td>0</td>\n",
       "      <td>0</td>\n",
       "      <td>0</td>\n",
       "      <td>1</td>\n",
       "      <td>0</td>\n",
       "      <td>0</td>\n",
       "      <td>1</td>\n",
       "      <td>0</td>\n",
       "      <td>1</td>\n",
       "      <td>0</td>\n",
       "    </tr>\n",
       "    <tr>\n",
       "      <th>4</th>\n",
       "      <td>0</td>\n",
       "      <td>102</td>\n",
       "      <td>0</td>\n",
       "      <td>186.8</td>\n",
       "      <td>92</td>\n",
       "      <td>173.7</td>\n",
       "      <td>123</td>\n",
       "      <td>250.9</td>\n",
       "      <td>131</td>\n",
       "      <td>9.7</td>\n",
       "      <td>...</td>\n",
       "      <td>0</td>\n",
       "      <td>0</td>\n",
       "      <td>0</td>\n",
       "      <td>0</td>\n",
       "      <td>1</td>\n",
       "      <td>0</td>\n",
       "      <td>1</td>\n",
       "      <td>0</td>\n",
       "      <td>1</td>\n",
       "      <td>0</td>\n",
       "    </tr>\n",
       "  </tbody>\n",
       "</table>\n",
       "<p>5 rows × 70 columns</p>\n",
       "</div>"
      ],
      "text/plain": [
       "   0  186  0.1  137.8   97  187.7  118  146.4   85  8.7  ...  0.49  0.50  \\\n",
       "0  0  132   25  113.2   96  269.9  107  229.1   87  7.1  ...     0     0   \n",
       "1  0  112   17  183.2   95  252.8  125  156.7   95  9.7  ...     0     0   \n",
       "2  0   91   24   93.5  112  183.4  128  240.7  133  9.9  ...     0     0   \n",
       "3  0   22    0  110.3  107  166.5   93  202.3   96  9.5  ...     0     0   \n",
       "4  0  102    0  186.8   92  173.7  123  250.9  131  9.7  ...     0     0   \n",
       "\n",
       "   0.51  0.52  0.53  1.2  1.3  0.54  1.4  0.55  \n",
       "0     0     0     1    0    1     0    0     1  \n",
       "1     0     0     1    0    1     0    0     1  \n",
       "2     0     0     0    1    0     1    0     1  \n",
       "3     0     1     0    0    1     0    1     0  \n",
       "4     0     0     1    0    1     0    1     0  \n",
       "\n",
       "[5 rows x 70 columns]"
      ]
     },
     "execution_count": 55,
     "metadata": {},
     "output_type": "execute_result"
    }
   ],
   "source": [
    "test_df = pd.read_csv('/'.join([s3_test_data_path, 'test.csv']), sep=',')\n",
    "test_df.head()"
   ]
  },
  {
   "cell_type": "code",
   "execution_count": 58,
   "metadata": {
    "ExecuteTime": {
     "end_time": "2020-07-23T01:56:00.228946Z",
     "start_time": "2020-07-23T01:55:59.973659Z"
    }
   },
   "outputs": [],
   "source": [
    "predictions = predict(test_df.to_numpy()[:, 1:])"
   ]
  },
  {
   "cell_type": "code",
   "execution_count": 59,
   "metadata": {
    "ExecuteTime": {
     "end_time": "2020-07-23T01:56:05.543602Z",
     "start_time": "2020-07-23T01:56:05.536243Z"
    }
   },
   "outputs": [
    {
     "data": {
      "text/plain": [
       "array([0.01076382, 0.00815068, 0.17197835, 0.00727295, 0.02683159,\n",
       "       0.77646941, 0.01884228, 0.15261421, 0.02097434, 0.01072737,\n",
       "       0.04403256, 0.01101517, 0.02866043, 0.01557919, 0.01282453,\n",
       "       0.02490271, 0.03327551, 0.21406855, 0.02446287, 0.00662337,\n",
       "       0.69447809, 0.02028675, 0.02458457, 0.0297976 , 0.11261535,\n",
       "       0.01323374, 0.98956352, 0.01778056, 0.08464119, 0.01221189,\n",
       "       0.03980241, 0.01717943, 0.02953824, 0.01349098, 0.74248719,\n",
       "       0.03136658, 0.00886904, 0.02141312, 0.04439792, 0.00824427,\n",
       "       0.07754114, 0.01717059, 0.00951407, 0.02062972, 0.8589865 ,\n",
       "       0.04142113, 0.01364505, 0.02368555, 0.11331131, 0.01155735,\n",
       "       0.03511472, 0.04872791, 0.031212  , 0.43253064, 0.01630785,\n",
       "       0.01716655, 0.52175391, 0.01216088, 0.03639773, 0.37913007,\n",
       "       0.01785273, 0.13224347, 0.04007643, 0.00741498, 0.00938071,\n",
       "       0.01384279, 0.00928919, 0.04003248, 0.03315024, 0.01156359,\n",
       "       0.34496883, 0.01788814, 0.02180807, 0.03097621, 0.76915908,\n",
       "       0.24605946, 0.01577249, 0.01173625, 0.02211475, 0.01243632,\n",
       "       0.01736273, 0.0286945 , 0.03181442, 0.00788064, 0.86610615,\n",
       "       0.09210923, 0.00935235, 0.02631257, 0.01189023, 0.01199065,\n",
       "       0.02397709, 0.01797658, 0.01632723, 0.10072452, 0.03644348,\n",
       "       0.8768056 , 0.01512354, 0.77151734, 0.01421165, 0.02629206,\n",
       "       0.024099  , 0.08314379, 0.01955512, 0.01091993, 0.52561861,\n",
       "       0.084341  , 0.02349596, 0.00614421, 0.02987261, 0.01051331,\n",
       "       0.10868391, 0.02416324, 0.02273121, 0.01940591, 0.00700126,\n",
       "       0.02614814, 0.0398061 , 0.95620024, 0.00747429, 0.01959492,\n",
       "       0.23598118, 0.0329288 , 0.03163234, 0.0300846 , 0.03350915,\n",
       "       0.01261888, 0.78089964, 0.88084799, 0.01865713, 0.02671589,\n",
       "       0.02959556, 0.03063134, 0.03899642, 0.00951395, 0.02093653,\n",
       "       0.01349981, 0.79891819, 0.07324079, 0.27144778, 0.01154228,\n",
       "       0.01518322, 0.02134252, 0.56713116, 0.01816054, 0.02053365,\n",
       "       0.00960462, 0.01131734, 0.0083213 , 0.02041347, 0.00747206,\n",
       "       0.01751412, 0.05553148, 0.02456766, 0.95508349, 0.01119039,\n",
       "       0.00885356, 0.01325018, 0.73348546, 0.01699999, 0.01273948,\n",
       "       0.47170874, 0.03093173, 0.00873866, 0.03576652, 0.01528613,\n",
       "       0.01319196, 0.02774139, 0.01303715, 0.04792045, 0.01894112,\n",
       "       0.06751057, 0.02784464, 0.01846024, 0.88998359, 0.46768424,\n",
       "       0.02458002, 0.03810078, 0.03876146, 0.04491584, 0.01767322,\n",
       "       0.03397755, 0.01261083, 0.96409655, 0.06406576, 0.75878882,\n",
       "       0.01420946, 0.02169145, 0.01175304, 0.02883743, 0.01482177,\n",
       "       0.00976588, 0.03887024, 0.0134463 , 0.22342458, 0.04413202,\n",
       "       0.15022622, 0.98546785, 0.00746712, 0.05468621, 0.0111706 ,\n",
       "       0.04117492, 0.02270369, 0.27248445, 0.01572801, 0.00798999,\n",
       "       0.01172396, 0.02570778, 0.05191793, 0.21628258, 0.93198293,\n",
       "       0.02358589, 0.01486049, 0.06738805, 0.03857371, 0.01356064,\n",
       "       0.01513725, 0.530981  , 0.03848246, 0.0588315 , 0.68719292,\n",
       "       0.07823142, 0.0162118 , 0.01466461, 0.01159935, 0.02183453,\n",
       "       0.02190113, 0.84036058, 0.84621668, 0.02885886, 0.01336475,\n",
       "       0.01563528, 0.00896087, 0.03238365, 0.19489844, 0.66274738,\n",
       "       0.69619846, 0.01817684, 0.03089787, 0.02500387, 0.76652366,\n",
       "       0.02680648, 0.03299645, 0.01951102, 0.01082343, 0.01974748,\n",
       "       0.01585467, 0.01283062, 0.01639702, 0.0967306 , 0.03926713,\n",
       "       0.01285893, 0.01051072, 0.01139289, 0.17972921, 0.03948223,\n",
       "       0.01992564, 0.02446904, 0.03501387, 0.07832726, 0.02146181,\n",
       "       0.0311209 , 0.02722561, 0.0084789 , 0.02506549, 0.01668537,\n",
       "       0.05997586, 0.01826107, 0.45322463, 0.01533445, 0.36371693,\n",
       "       0.78010249, 0.89114052, 0.42764917, 0.01283232, 0.01015771,\n",
       "       0.0752293 , 0.02006197, 0.02935418, 0.09684597, 0.00980074,\n",
       "       0.0123048 , 0.03091876, 0.29954794, 0.01152217, 0.8532548 ,\n",
       "       0.02119279, 0.95931947, 0.03084953, 0.02099595, 0.01054411,\n",
       "       0.00795498, 0.02607589, 0.87927812, 0.15832761, 0.03161884,\n",
       "       0.03348015, 0.01286257, 0.02477297, 0.01093051, 0.01776409,\n",
       "       0.05060735, 0.03447749, 0.95507991, 0.02429172, 0.05194546,\n",
       "       0.04651015, 0.00794146, 0.18421224, 0.02080794, 0.02297278,\n",
       "       0.06659909, 0.01713334, 0.04020859, 0.01936281, 0.01362099,\n",
       "       0.00967044, 0.78132957, 0.89303994, 0.11134581, 0.05347638,\n",
       "       0.02099868, 0.09702188, 0.03704851, 0.12274327, 0.95394731,\n",
       "       0.01305483, 0.01440774, 0.90759516, 0.0122581 , 0.01650917,\n",
       "       0.01288155, 0.04147748, 0.0109379 ])"
      ]
     },
     "execution_count": 59,
     "metadata": {},
     "output_type": "execute_result"
    }
   ],
   "source": [
    "predictions"
   ]
  },
  {
   "cell_type": "code",
   "execution_count": 60,
   "metadata": {
    "ExecuteTime": {
     "end_time": "2020-07-23T01:57:49.937019Z",
     "start_time": "2020-07-23T01:57:49.930994Z"
    }
   },
   "outputs": [],
   "source": [
    "THRESHOLD = 0.3"
   ]
  },
  {
   "cell_type": "code",
   "execution_count": 61,
   "metadata": {
    "ExecuteTime": {
     "end_time": "2020-07-23T01:57:51.607035Z",
     "start_time": "2020-07-23T01:57:51.579594Z"
    }
   },
   "outputs": [
    {
     "data": {
      "text/html": [
       "<div>\n",
       "<style scoped>\n",
       "    .dataframe tbody tr th:only-of-type {\n",
       "        vertical-align: middle;\n",
       "    }\n",
       "\n",
       "    .dataframe tbody tr th {\n",
       "        vertical-align: top;\n",
       "    }\n",
       "\n",
       "    .dataframe thead th {\n",
       "        text-align: right;\n",
       "    }\n",
       "</style>\n",
       "<table border=\"1\" class=\"dataframe\">\n",
       "  <thead>\n",
       "    <tr style=\"text-align: right;\">\n",
       "      <th>col_0</th>\n",
       "      <th>0</th>\n",
       "      <th>1</th>\n",
       "    </tr>\n",
       "    <tr>\n",
       "      <th>0</th>\n",
       "      <th></th>\n",
       "      <th></th>\n",
       "    </tr>\n",
       "  </thead>\n",
       "  <tbody>\n",
       "    <tr>\n",
       "      <th>0</th>\n",
       "      <td>278</td>\n",
       "      <td>7</td>\n",
       "    </tr>\n",
       "    <tr>\n",
       "      <th>1</th>\n",
       "      <td>7</td>\n",
       "      <td>41</td>\n",
       "    </tr>\n",
       "  </tbody>\n",
       "</table>\n",
       "</div>"
      ],
      "text/plain": [
       "col_0    0   1\n",
       "0             \n",
       "0      278   7\n",
       "1        7  41"
      ]
     },
     "execution_count": 61,
     "metadata": {},
     "output_type": "execute_result"
    }
   ],
   "source": [
    "pd.crosstab(index=test_df.iloc[:, 0], columns=np.where(predictions > THRESHOLD, 1, 0))"
   ]
  },
  {
   "cell_type": "code",
   "execution_count": null,
   "metadata": {},
   "outputs": [],
   "source": []
  }
 ],
 "metadata": {
  "hide_input": false,
  "kernelspec": {
   "display_name": "conda_python3",
   "language": "python",
   "name": "conda_python3"
  },
  "language_info": {
   "codemirror_mode": {
    "name": "ipython",
    "version": 3
   },
   "file_extension": ".py",
   "mimetype": "text/x-python",
   "name": "python",
   "nbconvert_exporter": "python",
   "pygments_lexer": "ipython3",
   "version": "3.6.10"
  },
  "toc": {
   "base_numbering": 1,
   "nav_menu": {},
   "number_sections": true,
   "sideBar": true,
   "skip_h1_title": true,
   "title_cell": "Table of Contents",
   "title_sidebar": "Contents",
   "toc_cell": false,
   "toc_position": {
    "height": "calc(100% - 180px)",
    "left": "10px",
    "top": "150px",
    "width": "207px"
   },
   "toc_section_display": true,
   "toc_window_display": true
  },
  "varInspector": {
   "cols": {
    "lenName": 16,
    "lenType": 16,
    "lenVar": 40
   },
   "kernels_config": {
    "python": {
     "delete_cmd_postfix": "",
     "delete_cmd_prefix": "del ",
     "library": "var_list.py",
     "varRefreshCmd": "print(var_dic_list())"
    },
    "r": {
     "delete_cmd_postfix": ") ",
     "delete_cmd_prefix": "rm(",
     "library": "var_list.r",
     "varRefreshCmd": "cat(var_dic_list()) "
    }
   },
   "types_to_exclude": [
    "module",
    "function",
    "builtin_function_or_method",
    "instance",
    "_Feature"
   ],
   "window_display": false
  }
 },
 "nbformat": 4,
 "nbformat_minor": 4
}
