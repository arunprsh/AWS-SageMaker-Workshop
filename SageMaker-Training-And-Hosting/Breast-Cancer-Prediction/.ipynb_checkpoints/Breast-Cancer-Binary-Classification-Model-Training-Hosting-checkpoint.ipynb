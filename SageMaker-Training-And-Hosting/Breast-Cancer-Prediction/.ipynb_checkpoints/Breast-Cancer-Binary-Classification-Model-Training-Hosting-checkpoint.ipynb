{
 "cells": [
  {
   "cell_type": "markdown",
   "metadata": {},
   "source": [
    "# Breast Cancer Prediction"
   ]
  },
  {
   "cell_type": "markdown",
   "metadata": {},
   "source": [
    "## Load & Prepare Data"
   ]
  },
  {
   "cell_type": "code",
   "execution_count": null,
   "metadata": {
    "ExecuteTime": {
     "end_time": "2020-08-24T17:57:08.096282Z",
     "start_time": "2020-08-24T17:57:07.399485Z"
    }
   },
   "outputs": [],
   "source": [
    "import sagemaker\n",
    "import boto3\n",
    "import os"
   ]
  },
  {
   "cell_type": "code",
   "execution_count": null,
   "metadata": {
    "ExecuteTime": {
     "end_time": "2020-08-24T17:58:26.102950Z",
     "start_time": "2020-08-24T17:58:23.683416Z"
    }
   },
   "outputs": [],
   "source": [
    "role = sagemaker.get_execution_role()\n",
    "sess = sagemaker.Session()\n",
    "\n",
    "bucket = sess.default_bucket()\n",
    "prefix = 'breast-cancer-prediction-xgboost'"
   ]
  },
  {
   "cell_type": "code",
   "execution_count": null,
   "metadata": {
    "ExecuteTime": {
     "end_time": "2020-08-24T18:06:51.068232Z",
     "start_time": "2020-08-24T18:06:51.054771Z"
    }
   },
   "outputs": [],
   "source": [
    "import pandas as pd\n",
    "\n",
    "raw_df = pd.read_csv('./DATA/data.csv')"
   ]
  },
  {
   "cell_type": "code",
   "execution_count": null,
   "metadata": {
    "ExecuteTime": {
     "end_time": "2020-08-24T18:06:51.331274Z",
     "start_time": "2020-08-24T18:06:51.294813Z"
    }
   },
   "outputs": [],
   "source": [
    "raw_df.head()"
   ]
  },
  {
   "cell_type": "code",
   "execution_count": null,
   "metadata": {
    "ExecuteTime": {
     "end_time": "2020-08-24T18:07:00.254420Z",
     "start_time": "2020-08-24T18:07:00.250347Z"
    }
   },
   "outputs": [],
   "source": [
    "raw_df.shape"
   ]
  },
  {
   "cell_type": "markdown",
   "metadata": {},
   "source": [
    "<b> IMPORTANT</b>\n",
    "<p>1/ Remove column <b>id</b> and binary encode column <b> diagnosis </b></p>\n",
    "<p>2/ Bring target column <i>(y)</i> to the front (first column) if using SageMaker built-in algorithms </p>"
   ]
  },
  {
   "cell_type": "code",
   "execution_count": null,
   "metadata": {
    "ExecuteTime": {
     "end_time": "2020-08-24T18:07:34.779305Z",
     "start_time": "2020-08-24T18:07:34.768158Z"
    }
   },
   "outputs": [],
   "source": [
    "train_df = pd.read_csv('./DATA/train.csv')"
   ]
  },
  {
   "cell_type": "code",
   "execution_count": null,
   "metadata": {
    "ExecuteTime": {
     "end_time": "2020-08-24T18:07:44.764854Z",
     "start_time": "2020-08-24T18:07:44.708723Z"
    }
   },
   "outputs": [],
   "source": [
    "train_df.head()"
   ]
  },
  {
   "cell_type": "code",
   "execution_count": null,
   "metadata": {
    "ExecuteTime": {
     "end_time": "2020-08-24T18:14:24.001046Z",
     "start_time": "2020-08-24T18:14:22.872016Z"
    }
   },
   "outputs": [],
   "source": [
    "# Upload data files to S3\n",
    "sess.upload_data('./DATA/train.csv', key_prefix='{}/train'.format(prefix))\n",
    "sess.upload_data('./DATA/validation.csv', key_prefix='{}/validation'.format(prefix))\n",
    "sess.upload_data('./DATA/batch.csv', key_prefix='{}/batch'.format(prefix))\n",
    "sess.upload_data('./DATA/batch_no_id.csv', key_prefix='{}/batch'.format(prefix))"
   ]
  },
  {
   "cell_type": "markdown",
   "metadata": {},
   "source": [
    "## Train XGBoost Binary Classifier using SageMaker XGBoost "
   ]
  },
  {
   "cell_type": "markdown",
   "metadata": {},
   "source": [
    "The below cell uses the [SageMaker Python SDK](https://github.com/aws/sagemaker-python-sdk) to kick off the training job using both our training set and validation set. Not that the objective is set to 'binary:logistic' which trains a model to output a probability between 0 and 1 (here the probability of a tumor being malignant)."
   ]
  },
  {
   "cell_type": "code",
   "execution_count": null,
   "metadata": {
    "ExecuteTime": {
     "end_time": "2020-08-24T18:16:18.748885Z",
     "start_time": "2020-08-24T18:16:18.745959Z"
    }
   },
   "outputs": [],
   "source": [
    "from sagemaker.amazon.amazon_estimator import get_image_uri\n",
    "from time import gmtime, strftime"
   ]
  },
  {
   "cell_type": "code",
   "execution_count": null,
   "metadata": {
    "ExecuteTime": {
     "end_time": "2020-08-24T18:18:09.129146Z",
     "start_time": "2020-08-24T18:18:09.081434Z"
    }
   },
   "outputs": [],
   "source": [
    "job_name = 'xgb-' + strftime(\"%Y-%m-%d-%H-%M-%S\", gmtime())\n",
    "output_location = 's3://{}/{}/output/{}'.format(bucket, prefix, job_name)\n",
    "docker_image_uri = get_image_uri(boto3.Session().region_name, 'xgboost', '1.0-1')\n",
    "print('Output Location: {}'.format(output_location))\n",
    "print('Docker Image URI: {}'.format(docker_image_uri))"
   ]
  },
  {
   "cell_type": "code",
   "execution_count": null,
   "metadata": {
    "ExecuteTime": {
     "end_time": "2020-08-24T18:19:39.397510Z",
     "start_time": "2020-08-24T18:19:39.393065Z"
    }
   },
   "outputs": [],
   "source": [
    "estimator = sagemaker.estimator.Estimator(docker_image_uri,\n",
    "                                          role,\n",
    "                                          train_instance_count=2,\n",
    "                                          train_instance_type='ml.m5.xlarge',\n",
    "                                          train_volume_size=50,\n",
    "                                          input_mode='File',\n",
    "                                          output_path=output_location,\n",
    "                                          sagemaker_session=sess)"
   ]
  },
  {
   "cell_type": "code",
   "execution_count": null,
   "metadata": {
    "ExecuteTime": {
     "end_time": "2020-08-24T18:20:29.034708Z",
     "start_time": "2020-08-24T18:20:29.031009Z"
    }
   },
   "outputs": [],
   "source": [
    "estimator.set_hyperparameters(objective=\"binary:logistic\",\n",
    "                                 max_depth=5,\n",
    "                                 eta=0.2,\n",
    "                                 gamma=4,\n",
    "                                 min_child_weight=6,\n",
    "                                 subsample=0.8,\n",
    "                                 silent=0,\n",
    "                                 num_round=100)"
   ]
  },
  {
   "cell_type": "code",
   "execution_count": null,
   "metadata": {
    "ExecuteTime": {
     "end_time": "2020-08-24T18:20:30.187952Z",
     "start_time": "2020-08-24T18:20:30.182394Z"
    }
   },
   "outputs": [],
   "source": [
    "estimator.__dict__"
   ]
  },
  {
   "cell_type": "code",
   "execution_count": null,
   "metadata": {
    "ExecuteTime": {
     "end_time": "2020-08-24T18:21:39.206340Z",
     "start_time": "2020-08-24T18:21:39.199994Z"
    }
   },
   "outputs": [],
   "source": [
    "# create data channels\n",
    "train_data = sagemaker.session.s3_input('s3://{}/{}/train'.format(bucket, prefix), \n",
    "                                        distribution='FullyReplicated', \n",
    "                                        content_type='text/csv', \n",
    "                                        s3_data_type='S3Prefix')\n",
    "validation_data = sagemaker.session.s3_input('s3://{}/{}/validation'.format(bucket, prefix), \n",
    "                                             distribution='FullyReplicated', \n",
    "                                             content_type='text/csv', \n",
    "                                             s3_data_type='S3Prefix')\n",
    "data_channels = {'train': train_data, 'validation': validation_data}"
   ]
  },
  {
   "cell_type": "code",
   "execution_count": null,
   "metadata": {
    "ExecuteTime": {
     "end_time": "2020-08-24T18:25:45.546684Z",
     "start_time": "2020-08-24T18:22:02.044528Z"
    }
   },
   "outputs": [],
   "source": [
    "# start training by calling the fit method in the estimator\n",
    "estimator.fit(inputs=data_channels, logs=True)"
   ]
  },
  {
   "cell_type": "markdown",
   "metadata": {},
   "source": [
    "## Deploy Trained Model as SageMaker Endpoint"
   ]
  },
  {
   "cell_type": "code",
   "execution_count": null,
   "metadata": {
    "ExecuteTime": {
     "end_time": "2020-08-24T19:05:24.848296Z",
     "start_time": "2020-08-24T18:58:21.336982Z"
    }
   },
   "outputs": [],
   "source": [
    "predictor = estimator.deploy(instance_type='ml.m5.xlarge', initial_instance_count=2)"
   ]
  },
  {
   "cell_type": "markdown",
   "metadata": {},
   "source": [
    "## Test Deployed Model Endpoint for Inference"
   ]
  },
  {
   "cell_type": "code",
   "execution_count": null,
   "metadata": {
    "ExecuteTime": {
     "end_time": "2020-08-24T19:09:17.442799Z",
     "start_time": "2020-08-24T19:09:17.433956Z"
    }
   },
   "outputs": [],
   "source": [
    "batch_no_id_df = pd.read_csv('./DATA/batch_no_id.csv')\n",
    "test_data = batch_no_id_df.values.tolist()"
   ]
  },
  {
   "cell_type": "code",
   "execution_count": null,
   "metadata": {
    "ExecuteTime": {
     "end_time": "2020-08-24T19:09:40.141541Z",
     "start_time": "2020-08-24T19:09:40.136914Z"
    }
   },
   "outputs": [],
   "source": [
    "test_data[0]"
   ]
  },
  {
   "cell_type": "code",
   "execution_count": null,
   "metadata": {
    "ExecuteTime": {
     "end_time": "2020-08-24T19:14:46.967952Z",
     "start_time": "2020-08-24T19:14:46.963175Z"
    }
   },
   "outputs": [],
   "source": [
    "X = ','.join([str(x) for x in test_data[0]])\n",
    "X"
   ]
  },
  {
   "cell_type": "code",
   "execution_count": null,
   "metadata": {
    "ExecuteTime": {
     "end_time": "2020-08-24T19:14:51.418584Z",
     "start_time": "2020-08-24T19:14:51.410505Z"
    }
   },
   "outputs": [],
   "source": [
    "# Create Sagemaker run-time client using boto3\n",
    "client = boto3.client('sagemaker-runtime')\n",
    "endpoint_name = predictor.endpoint"
   ]
  },
  {
   "cell_type": "code",
   "execution_count": null,
   "metadata": {
    "ExecuteTime": {
     "end_time": "2020-08-24T19:16:36.918236Z",
     "start_time": "2020-08-24T19:16:36.897059Z"
    }
   },
   "outputs": [],
   "source": [
    "response = client.invoke_endpoint(\n",
    "    EndpointName=endpoint_name,\n",
    "    Body=X,\n",
    "    ContentType='text/csv')\n",
    "y = response['Body'].read()\n",
    "y = y.decode('utf-8')\n",
    "y "
   ]
  },
  {
   "cell_type": "markdown",
   "metadata": {},
   "source": [
    "## Create Batch Transform Job"
   ]
  },
  {
   "cell_type": "code",
   "execution_count": null,
   "metadata": {
    "ExecuteTime": {
     "end_time": "2020-08-24T19:49:12.615800Z",
     "start_time": "2020-08-24T19:49:12.612681Z"
    }
   },
   "outputs": [],
   "source": [
    "input_location = 's3://{}/{}/batch/{}'.format(bucket, prefix, 'batch_no_id.csv') \n",
    "s3_batch_output = 's3://{}/{}/batch/batch-inference'.format(bucket, prefix)"
   ]
  },
  {
   "cell_type": "code",
   "execution_count": null,
   "metadata": {
    "ExecuteTime": {
     "end_time": "2020-08-24T19:54:27.889473Z",
     "start_time": "2020-08-24T19:49:14.290676Z"
    }
   },
   "outputs": [],
   "source": [
    "transformer = estimator.transformer(instance_count=2, \n",
    "                                    instance_type='ml.m4.xlarge',\n",
    "                                    output_path=s3_batch_output) \n",
    "transformer.transform(data=input_location, \n",
    "                      data_type='S3Prefix', \n",
    "                      content_type='text/csv', \n",
    "                      split_type='Line')\n",
    "transformer.wait()"
   ]
  },
  {
   "cell_type": "markdown",
   "metadata": {},
   "source": [
    "## Inspect Output of Batch Transform Job\n",
    "<p>It should show the list probabilities of tumors being malignant</p>"
   ]
  },
  {
   "cell_type": "code",
   "execution_count": null,
   "metadata": {
    "ExecuteTime": {
     "end_time": "2020-08-24T19:58:34.750146Z",
     "start_time": "2020-08-24T19:58:34.747289Z"
    }
   },
   "outputs": [],
   "source": [
    "from urllib.parse import urlparse\n",
    "import json\n",
    "import io"
   ]
  },
  {
   "cell_type": "code",
   "execution_count": null,
   "metadata": {
    "ExecuteTime": {
     "end_time": "2020-08-24T19:58:35.322742Z",
     "start_time": "2020-08-24T19:58:35.318223Z"
    }
   },
   "outputs": [],
   "source": [
    "def get_csv_output_from_s3(s3uri, file_name):\n",
    "    parsed_url = urlparse(s3uri)\n",
    "    bucket_name = parsed_url.netloc\n",
    "    prefix = parsed_url.path[1:]\n",
    "    s3 = boto3.resource('s3')\n",
    "    obj = s3.Object(bucket_name, '{}/{}'.format(prefix, file_name))\n",
    "    return obj.get()[\"Body\"].read().decode('utf-8')    "
   ]
  },
  {
   "cell_type": "code",
   "execution_count": null,
   "metadata": {
    "ExecuteTime": {
     "end_time": "2020-08-24T19:58:53.036719Z",
     "start_time": "2020-08-24T19:58:52.914861Z"
    }
   },
   "outputs": [],
   "source": [
    "output = get_csv_output_from_s3(transformer.output_path, '{}.out'.format('batch_no_id.csv'))\n",
    "output_df = pd.read_csv(io.StringIO(output), sep=',', header=None)\n",
    "output_df.head()"
   ]
  },
  {
   "cell_type": "code",
   "execution_count": null,
   "metadata": {
    "ExecuteTime": {
     "end_time": "2020-08-24T19:59:04.793794Z",
     "start_time": "2020-08-24T19:59:04.789740Z"
    }
   },
   "outputs": [],
   "source": [
    "output_df.shape"
   ]
  },
  {
   "cell_type": "code",
   "execution_count": null,
   "metadata": {},
   "outputs": [],
   "source": []
  }
 ],
 "metadata": {
  "hide_input": false,
  "kernelspec": {
   "display_name": "conda_python3",
   "language": "python",
   "name": "conda_python3"
  },
  "language_info": {
   "codemirror_mode": {
    "name": "ipython",
    "version": 3
   },
   "file_extension": ".py",
   "mimetype": "text/x-python",
   "name": "python",
   "nbconvert_exporter": "python",
   "pygments_lexer": "ipython3",
   "version": "3.6.10"
  },
  "toc": {
   "base_numbering": 1,
   "nav_menu": {},
   "number_sections": true,
   "sideBar": true,
   "skip_h1_title": true,
   "title_cell": "Table of Contents",
   "title_sidebar": "Contents",
   "toc_cell": false,
   "toc_position": {},
   "toc_section_display": true,
   "toc_window_display": true
  },
  "varInspector": {
   "cols": {
    "lenName": 16,
    "lenType": 16,
    "lenVar": 40
   },
   "kernels_config": {
    "python": {
     "delete_cmd_postfix": "",
     "delete_cmd_prefix": "del ",
     "library": "var_list.py",
     "varRefreshCmd": "print(var_dic_list())"
    },
    "r": {
     "delete_cmd_postfix": ") ",
     "delete_cmd_prefix": "rm(",
     "library": "var_list.r",
     "varRefreshCmd": "cat(var_dic_list()) "
    }
   },
   "types_to_exclude": [
    "module",
    "function",
    "builtin_function_or_method",
    "instance",
    "_Feature"
   ],
   "window_display": false
  }
 },
 "nbformat": 4,
 "nbformat_minor": 4
}
